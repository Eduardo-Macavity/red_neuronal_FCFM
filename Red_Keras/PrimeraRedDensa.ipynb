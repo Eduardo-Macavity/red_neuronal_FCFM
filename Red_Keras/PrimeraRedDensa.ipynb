{
  "nbformat": 4,
  "nbformat_minor": 0,
  "metadata": {
    "colab": {
      "provenance": []
    },
    "kernelspec": {
      "name": "python3",
      "display_name": "Python 3"
    },
    "language_info": {
      "name": "python"
    }
  },
  "cells": [
    {
      "cell_type": "code",
      "execution_count": 33,
      "metadata": {
        "id": "GJ_8iPWWN8fn"
      },
      "outputs": [],
      "source": [
        "import tensorflow as tf\n",
        "from tensorflow import keras\n",
        "#from tensorflow.keras.datasets import mnist\n",
        "from tensorflow.keras.models import Sequential\n",
        "from tensorflow.keras.layers import Dense, Dropout, Activation\n",
        "from tensorflow.keras.optimizers import RMSprop, SGD\n",
        "from tensorflow.keras import regularizers\n",
        "import gzip\n",
        "import pickle\n",
        "import numpy as np"
      ]
    },
    {
      "cell_type": "code",
      "source": [
        "learning_rate = 0.001\n",
        "epochs = 30\n",
        "batch_size = 120"
      ],
      "metadata": {
        "id": "_5WnkpI7OSmv"
      },
      "execution_count": 34,
      "outputs": []
    },
    {
      "cell_type": "code",
      "source": [
        "#Cargamos los datos\n",
        "f = gzip.open('mnist.pkl.gz', 'rb')\n",
        "dataset = pickle.load(f,encoding=\"latin1\")"
      ],
      "metadata": {
        "id": "xAGhEsx-P_MP"
      },
      "execution_count": 35,
      "outputs": []
    },
    {
      "cell_type": "code",
      "source": [
        "dat=np.array(dataset)\n",
        "print(dat[1,1].shape)\n",
        "(x_train, y_train), (x_val, y_val), (x_test, y_test) = dataset"
      ],
      "metadata": {
        "colab": {
          "base_uri": "https://localhost:8080/"
        },
        "id": "kUgQhC-yQmoA",
        "outputId": "6617cd9d-f9e5-4a5e-d676-226f5e33f688"
      },
      "execution_count": 36,
      "outputs": [
        {
          "output_type": "stream",
          "name": "stdout",
          "text": [
            "(10000,)\n"
          ]
        },
        {
          "output_type": "stream",
          "name": "stderr",
          "text": [
            "<ipython-input-36-9d04016ce3ca>:1: VisibleDeprecationWarning: Creating an ndarray from ragged nested sequences (which is a list-or-tuple of lists-or-tuples-or ndarrays with different lengths or shapes) is deprecated. If you meant to do this, you must specify 'dtype=object' when creating the ndarray.\n",
            "  dat=np.array(dataset)\n"
          ]
        }
      ]
    },
    {
      "cell_type": "code",
      "source": [
        "x_train.shape"
      ],
      "metadata": {
        "colab": {
          "base_uri": "https://localhost:8080/"
        },
        "id": "TwN7VEN_T0sr",
        "outputId": "0c050c33-9836-4125-aa80-4527ebe22807"
      },
      "execution_count": 37,
      "outputs": [
        {
          "output_type": "execute_result",
          "data": {
            "text/plain": [
              "(50000, 784)"
            ]
          },
          "metadata": {},
          "execution_count": 37
        }
      ]
    },
    {
      "cell_type": "code",
      "source": [
        "x_train = x_train.astype('float32')\n",
        "x_test = x_test.astype('float32')"
      ],
      "metadata": {
        "id": "xSwgxQ0kTwWT"
      },
      "execution_count": 38,
      "outputs": []
    },
    {
      "cell_type": "code",
      "source": [
        "print(y_train[10000])"
      ],
      "metadata": {
        "colab": {
          "base_uri": "https://localhost:8080/"
        },
        "id": "-8EYclMGUpFT",
        "outputId": "b8d17202-eea6-4cdc-e52b-09b642cba5a5"
      },
      "execution_count": 39,
      "outputs": [
        {
          "output_type": "stream",
          "name": "stdout",
          "text": [
            "3\n"
          ]
        }
      ]
    },
    {
      "cell_type": "code",
      "source": [
        "num_classes=10\n",
        "y_trainc = keras.utils.to_categorical(y_train, num_classes)\n",
        "y_testc = keras.utils.to_categorical(y_test, num_classes)"
      ],
      "metadata": {
        "id": "R-amYxZGUndc"
      },
      "execution_count": 40,
      "outputs": []
    },
    {
      "cell_type": "code",
      "source": [
        "y_trainc[10000]"
      ],
      "metadata": {
        "colab": {
          "base_uri": "https://localhost:8080/"
        },
        "id": "nxsmUUgaVELP",
        "outputId": "9868f0f7-574f-47ef-f1ab-37bc662e4586"
      },
      "execution_count": 41,
      "outputs": [
        {
          "output_type": "execute_result",
          "data": {
            "text/plain": [
              "array([0., 0., 0., 1., 0., 0., 0., 0., 0., 0.], dtype=float32)"
            ]
          },
          "metadata": {},
          "execution_count": 41
        }
      ]
    },
    {
      "cell_type": "code",
      "source": [
        "model = Sequential()\n",
        "model.add(Dense(512, activation='sigmoid', input_shape=(784,)))\n",
        "model.add(Dense(num_classes, activation='sigmoid'))\n",
        "\n",
        "model.summary()"
      ],
      "metadata": {
        "colab": {
          "base_uri": "https://localhost:8080/"
        },
        "id": "beuSlmuNVUDt",
        "outputId": "9fa0dfea-c6a7-4d52-ee3c-dff503bf6087"
      },
      "execution_count": 42,
      "outputs": [
        {
          "output_type": "stream",
          "name": "stdout",
          "text": [
            "Model: \"sequential_2\"\n",
            "_________________________________________________________________\n",
            " Layer (type)                Output Shape              Param #   \n",
            "=================================================================\n",
            " dense_4 (Dense)             (None, 512)               401920    \n",
            "                                                                 \n",
            " dense_5 (Dense)             (None, 10)                5130      \n",
            "                                                                 \n",
            "=================================================================\n",
            "Total params: 407050 (1.55 MB)\n",
            "Trainable params: 407050 (1.55 MB)\n",
            "Non-trainable params: 0 (0.00 Byte)\n",
            "_________________________________________________________________\n"
          ]
        }
      ]
    },
    {
      "cell_type": "code",
      "source": [
        "model.compile(loss='categorical_crossentropy',optimizer=SGD(learning_rate=learning_rate),metrics=['accuracy'])"
      ],
      "metadata": {
        "id": "DA8CFMYtWmVE"
      },
      "execution_count": 43,
      "outputs": []
    },
    {
      "cell_type": "code",
      "source": [
        "history = model.fit(x_train, y_trainc,\n",
        "                    batch_size=batch_size,\n",
        "                    epochs=epochs,\n",
        "                    verbose=1,\n",
        "                    validation_data=(x_test, y_testc)\n",
        "                    )"
      ],
      "metadata": {
        "id": "2_k28zDtXJMb",
        "colab": {
          "base_uri": "https://localhost:8080/"
        },
        "outputId": "1c65ca8c-bfa6-436e-e6b8-e4a66c88344e"
      },
      "execution_count": 44,
      "outputs": [
        {
          "output_type": "stream",
          "name": "stdout",
          "text": [
            "Epoch 1/30\n",
            "417/417 [==============================] - 7s 16ms/step - loss: 2.3030 - accuracy: 0.1744 - val_loss: 2.2351 - val_accuracy: 0.2673\n",
            "Epoch 2/30\n",
            "417/417 [==============================] - 5s 11ms/step - loss: 2.2043 - accuracy: 0.3465 - val_loss: 2.1663 - val_accuracy: 0.4097\n",
            "Epoch 3/30\n",
            "417/417 [==============================] - 4s 10ms/step - loss: 2.1382 - accuracy: 0.4581 - val_loss: 2.1001 - val_accuracy: 0.5369\n",
            "Epoch 4/30\n",
            "417/417 [==============================] - 4s 10ms/step - loss: 2.0743 - accuracy: 0.5373 - val_loss: 2.0360 - val_accuracy: 0.5924\n",
            "Epoch 5/30\n",
            "417/417 [==============================] - 4s 10ms/step - loss: 2.0125 - accuracy: 0.5841 - val_loss: 1.9733 - val_accuracy: 0.6270\n",
            "Epoch 6/30\n",
            "417/417 [==============================] - 3s 8ms/step - loss: 1.9523 - accuracy: 0.6174 - val_loss: 1.9128 - val_accuracy: 0.6579\n",
            "Epoch 7/30\n",
            "417/417 [==============================] - 3s 8ms/step - loss: 1.8939 - accuracy: 0.6451 - val_loss: 1.8540 - val_accuracy: 0.6708\n",
            "Epoch 8/30\n",
            "417/417 [==============================] - 5s 12ms/step - loss: 1.8372 - accuracy: 0.6630 - val_loss: 1.7970 - val_accuracy: 0.6947\n",
            "Epoch 9/30\n",
            "417/417 [==============================] - 4s 9ms/step - loss: 1.7820 - accuracy: 0.6822 - val_loss: 1.7416 - val_accuracy: 0.7013\n",
            "Epoch 10/30\n",
            "417/417 [==============================] - 3s 8ms/step - loss: 1.7286 - accuracy: 0.6942 - val_loss: 1.6877 - val_accuracy: 0.7234\n",
            "Epoch 11/30\n",
            "417/417 [==============================] - 4s 10ms/step - loss: 1.6768 - accuracy: 0.7082 - val_loss: 1.6358 - val_accuracy: 0.7286\n",
            "Epoch 12/30\n",
            "417/417 [==============================] - 4s 9ms/step - loss: 1.6267 - accuracy: 0.7196 - val_loss: 1.5857 - val_accuracy: 0.7371\n",
            "Epoch 13/30\n",
            "417/417 [==============================] - 3s 8ms/step - loss: 1.5784 - accuracy: 0.7271 - val_loss: 1.5372 - val_accuracy: 0.7487\n",
            "Epoch 14/30\n",
            "417/417 [==============================] - 3s 8ms/step - loss: 1.5317 - accuracy: 0.7363 - val_loss: 1.4906 - val_accuracy: 0.7585\n",
            "Epoch 15/30\n",
            "417/417 [==============================] - 5s 11ms/step - loss: 1.4870 - accuracy: 0.7452 - val_loss: 1.4458 - val_accuracy: 0.7643\n",
            "Epoch 16/30\n",
            "417/417 [==============================] - 3s 8ms/step - loss: 1.4439 - accuracy: 0.7523 - val_loss: 1.4029 - val_accuracy: 0.7722\n",
            "Epoch 17/30\n",
            "417/417 [==============================] - 3s 8ms/step - loss: 1.4027 - accuracy: 0.7572 - val_loss: 1.3620 - val_accuracy: 0.7783\n",
            "Epoch 18/30\n",
            "417/417 [==============================] - 5s 12ms/step - loss: 1.3633 - accuracy: 0.7647 - val_loss: 1.3227 - val_accuracy: 0.7816\n",
            "Epoch 19/30\n",
            "417/417 [==============================] - 4s 9ms/step - loss: 1.3255 - accuracy: 0.7698 - val_loss: 1.2852 - val_accuracy: 0.7864\n",
            "Epoch 20/30\n",
            "417/417 [==============================] - 3s 8ms/step - loss: 1.2895 - accuracy: 0.7733 - val_loss: 1.2495 - val_accuracy: 0.7957\n",
            "Epoch 21/30\n",
            "417/417 [==============================] - 3s 8ms/step - loss: 1.2552 - accuracy: 0.7807 - val_loss: 1.2154 - val_accuracy: 0.7966\n",
            "Epoch 22/30\n",
            "417/417 [==============================] - 5s 12ms/step - loss: 1.2225 - accuracy: 0.7845 - val_loss: 1.1832 - val_accuracy: 0.7986\n",
            "Epoch 23/30\n",
            "417/417 [==============================] - 3s 8ms/step - loss: 1.1913 - accuracy: 0.7889 - val_loss: 1.1524 - val_accuracy: 0.8035\n",
            "Epoch 24/30\n",
            "417/417 [==============================] - 3s 8ms/step - loss: 1.1617 - accuracy: 0.7920 - val_loss: 1.1231 - val_accuracy: 0.8067\n",
            "Epoch 25/30\n",
            "417/417 [==============================] - 4s 11ms/step - loss: 1.1335 - accuracy: 0.7964 - val_loss: 1.0952 - val_accuracy: 0.8080\n",
            "Epoch 26/30\n",
            "417/417 [==============================] - 4s 9ms/step - loss: 1.1067 - accuracy: 0.8000 - val_loss: 1.0690 - val_accuracy: 0.8092\n",
            "Epoch 27/30\n",
            "417/417 [==============================] - 4s 9ms/step - loss: 1.0813 - accuracy: 0.8023 - val_loss: 1.0437 - val_accuracy: 0.8137\n",
            "Epoch 28/30\n",
            "417/417 [==============================] - 4s 10ms/step - loss: 1.0570 - accuracy: 0.8063 - val_loss: 1.0199 - val_accuracy: 0.8165\n",
            "Epoch 29/30\n",
            "417/417 [==============================] - 4s 10ms/step - loss: 1.0340 - accuracy: 0.8087 - val_loss: 0.9972 - val_accuracy: 0.8186\n",
            "Epoch 30/30\n",
            "417/417 [==============================] - 3s 8ms/step - loss: 1.0120 - accuracy: 0.8114 - val_loss: 0.9756 - val_accuracy: 0.8219\n"
          ]
        }
      ]
    },
    {
      "cell_type": "code",
      "source": [
        "score = model.evaluate(x_test, y_testc, verbose=1) #evaluar la eficiencia del modelo\n",
        "print(score)\n",
        "a=model.predict(x_test) #predicción de la red entrenada\n",
        "print(a.shape)\n",
        "print(a[1])\n",
        "print(\"resultado correcto:\")\n",
        "print(y_testc[1])\n"
      ],
      "metadata": {
        "id": "EwFrc-kT3c4k",
        "colab": {
          "base_uri": "https://localhost:8080/"
        },
        "outputId": "c5032bd9-b8da-41cd-8330-65b6112944ad"
      },
      "execution_count": 45,
      "outputs": [
        {
          "output_type": "stream",
          "name": "stdout",
          "text": [
            "313/313 [==============================] - 1s 4ms/step - loss: 0.9756 - accuracy: 0.8219\n",
            "[0.975567102432251, 0.8219000101089478]\n",
            "313/313 [==============================] - 1s 4ms/step\n",
            "(10000, 10)\n",
            "[0.62502426 0.6492378  0.8763041  0.8252078  0.23904485 0.7608317\n",
            " 0.8308537  0.20516747 0.66014266 0.20891812]\n",
            "resultado correcto:\n",
            "[0. 0. 1. 0. 0. 0. 0. 0. 0. 0.]\n"
          ]
        }
      ]
    },
    {
      "cell_type": "code",
      "source": [
        "#Para guardar el modelo en disco\n",
        "model.save(\"red.h5\")"
      ],
      "metadata": {
        "id": "AWXql1k04F7K"
      },
      "execution_count": null,
      "outputs": []
    },
    {
      "cell_type": "code",
      "source": [
        "#para cargar la red:\n",
        "modelo_cargado = tf.keras.models.load_model('red.h5')"
      ],
      "metadata": {
        "id": "CDsy85rb4Cs_"
      },
      "execution_count": null,
      "outputs": []
    }
  ]
}