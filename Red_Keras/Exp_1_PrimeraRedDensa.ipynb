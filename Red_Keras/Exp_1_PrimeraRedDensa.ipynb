{
  "nbformat": 4,
  "nbformat_minor": 0,
  "metadata": {
    "colab": {
      "provenance": []
    },
    "kernelspec": {
      "name": "python3",
      "display_name": "Python 3"
    },
    "language_info": {
      "name": "python"
    }
  },
  "cells": [
    {
      "cell_type": "code",
      "execution_count": 1,
      "metadata": {
        "id": "GJ_8iPWWN8fn"
      },
      "outputs": [],
      "source": [
        "import tensorflow as tf\n",
        "from tensorflow import keras\n",
        "#from tensorflow.keras.datasets import mnist\n",
        "from tensorflow.keras.models import Sequential\n",
        "from tensorflow.keras.layers import Dense, Dropout, Activation\n",
        "from tensorflow.keras.optimizers import RMSprop, SGD\n",
        "from tensorflow.keras import regularizers\n",
        "import gzip\n",
        "import pickle\n",
        "import numpy as np"
      ]
    },
    {
      "cell_type": "code",
      "source": [
        "learning_rate = 0.001\n",
        "epochs = 30\n",
        "batch_size = 120"
      ],
      "metadata": {
        "id": "_5WnkpI7OSmv"
      },
      "execution_count": 2,
      "outputs": []
    },
    {
      "cell_type": "code",
      "source": [
        "#Cargamos los datos\n",
        "f = gzip.open('mnist.pkl.gz', 'rb')\n",
        "dataset = pickle.load(f,encoding=\"latin1\")"
      ],
      "metadata": {
        "id": "xAGhEsx-P_MP"
      },
      "execution_count": 4,
      "outputs": []
    },
    {
      "cell_type": "code",
      "source": [
        "dat=np.array(dataset)\n",
        "print(dat[1,1].shape)\n",
        "(x_train, y_train), (x_val, y_val), (x_test, y_test) = dataset"
      ],
      "metadata": {
        "colab": {
          "base_uri": "https://localhost:8080/"
        },
        "id": "kUgQhC-yQmoA",
        "outputId": "f9e17352-2cb2-46b1-b5b1-c4762e58e5c2"
      },
      "execution_count": 5,
      "outputs": [
        {
          "output_type": "stream",
          "name": "stdout",
          "text": [
            "(10000,)\n"
          ]
        },
        {
          "output_type": "stream",
          "name": "stderr",
          "text": [
            "<ipython-input-5-9d04016ce3ca>:1: VisibleDeprecationWarning: Creating an ndarray from ragged nested sequences (which is a list-or-tuple of lists-or-tuples-or ndarrays with different lengths or shapes) is deprecated. If you meant to do this, you must specify 'dtype=object' when creating the ndarray.\n",
            "  dat=np.array(dataset)\n"
          ]
        }
      ]
    },
    {
      "cell_type": "code",
      "source": [
        "x_train.shape"
      ],
      "metadata": {
        "colab": {
          "base_uri": "https://localhost:8080/"
        },
        "id": "TwN7VEN_T0sr",
        "outputId": "3d481975-0ae5-4cbc-8d5b-8db1df60c90a"
      },
      "execution_count": 6,
      "outputs": [
        {
          "output_type": "execute_result",
          "data": {
            "text/plain": [
              "(50000, 784)"
            ]
          },
          "metadata": {},
          "execution_count": 6
        }
      ]
    },
    {
      "cell_type": "code",
      "source": [
        "x_train = x_train.astype('float32')\n",
        "x_test = x_test.astype('float32')"
      ],
      "metadata": {
        "id": "xSwgxQ0kTwWT"
      },
      "execution_count": 7,
      "outputs": []
    },
    {
      "cell_type": "code",
      "source": [
        "print(y_train[10000])"
      ],
      "metadata": {
        "colab": {
          "base_uri": "https://localhost:8080/"
        },
        "id": "-8EYclMGUpFT",
        "outputId": "1d3727b8-34f0-4b22-9fa1-ce854d633cd3"
      },
      "execution_count": 8,
      "outputs": [
        {
          "output_type": "stream",
          "name": "stdout",
          "text": [
            "3\n"
          ]
        }
      ]
    },
    {
      "cell_type": "code",
      "source": [
        "num_classes=10\n",
        "y_trainc = keras.utils.to_categorical(y_train, num_classes)\n",
        "y_testc = keras.utils.to_categorical(y_test, num_classes)"
      ],
      "metadata": {
        "id": "R-amYxZGUndc"
      },
      "execution_count": 9,
      "outputs": []
    },
    {
      "cell_type": "code",
      "source": [
        "y_trainc[10000]"
      ],
      "metadata": {
        "colab": {
          "base_uri": "https://localhost:8080/"
        },
        "id": "nxsmUUgaVELP",
        "outputId": "24111d45-82a8-4e54-b0a3-72cc2cd0fec1"
      },
      "execution_count": 10,
      "outputs": [
        {
          "output_type": "execute_result",
          "data": {
            "text/plain": [
              "array([0., 0., 0., 1., 0., 0., 0., 0., 0., 0.], dtype=float32)"
            ]
          },
          "metadata": {},
          "execution_count": 10
        }
      ]
    },
    {
      "cell_type": "code",
      "source": [
        "model = Sequential()\n",
        "model.add(Dense(512, activation='sigmoid', input_shape=(784,)))\n",
        "model.add(Dense(635,activation='relu')) #Se le agregó esta capa\n",
        "model.add(Dense(num_classes, activation='sigmoid'))\n",
        "\n",
        "model.summary()"
      ],
      "metadata": {
        "colab": {
          "base_uri": "https://localhost:8080/"
        },
        "id": "beuSlmuNVUDt",
        "outputId": "6d9ca686-4eb1-4da1-e2b8-ffd001f27e20"
      },
      "execution_count": 11,
      "outputs": [
        {
          "output_type": "stream",
          "name": "stdout",
          "text": [
            "Model: \"sequential\"\n",
            "_________________________________________________________________\n",
            " Layer (type)                Output Shape              Param #   \n",
            "=================================================================\n",
            " dense (Dense)               (None, 512)               401920    \n",
            "                                                                 \n",
            " dense_1 (Dense)             (None, 635)               325755    \n",
            "                                                                 \n",
            " dense_2 (Dense)             (None, 10)                6360      \n",
            "                                                                 \n",
            "=================================================================\n",
            "Total params: 734035 (2.80 MB)\n",
            "Trainable params: 734035 (2.80 MB)\n",
            "Non-trainable params: 0 (0.00 Byte)\n",
            "_________________________________________________________________\n"
          ]
        }
      ]
    },
    {
      "cell_type": "code",
      "source": [
        "#El optimizador se cambio a ADAM\n",
        "model.compile(loss='categorical_crossentropy',optimizer='adam',metrics=['accuracy'])"
      ],
      "metadata": {
        "id": "DA8CFMYtWmVE"
      },
      "execution_count": 12,
      "outputs": []
    },
    {
      "cell_type": "code",
      "source": [
        "history = model.fit(x_train, y_trainc,\n",
        "                    batch_size=batch_size,\n",
        "                    epochs=epochs,\n",
        "                    verbose=1,\n",
        "                    validation_data=(x_test, y_testc)\n",
        "                    )"
      ],
      "metadata": {
        "id": "2_k28zDtXJMb",
        "colab": {
          "base_uri": "https://localhost:8080/"
        },
        "outputId": "b74e8d8e-5482-4704-be67-9f139e44cca9"
      },
      "execution_count": 13,
      "outputs": [
        {
          "output_type": "stream",
          "name": "stdout",
          "text": [
            "Epoch 1/30\n",
            "417/417 [==============================] - 10s 21ms/step - loss: 0.4626 - accuracy: 0.8647 - val_loss: 0.2423 - val_accuracy: 0.9270\n",
            "Epoch 2/30\n",
            "417/417 [==============================] - 8s 19ms/step - loss: 0.2201 - accuracy: 0.9341 - val_loss: 0.1949 - val_accuracy: 0.9410\n",
            "Epoch 3/30\n",
            "417/417 [==============================] - 9s 20ms/step - loss: 0.1565 - accuracy: 0.9525 - val_loss: 0.1332 - val_accuracy: 0.9598\n",
            "Epoch 4/30\n",
            "417/417 [==============================] - 7s 18ms/step - loss: 0.1183 - accuracy: 0.9638 - val_loss: 0.1156 - val_accuracy: 0.9632\n",
            "Epoch 5/30\n",
            "417/417 [==============================] - 9s 21ms/step - loss: 0.0919 - accuracy: 0.9720 - val_loss: 0.1072 - val_accuracy: 0.9652\n",
            "Epoch 6/30\n",
            "417/417 [==============================] - 9s 21ms/step - loss: 0.0745 - accuracy: 0.9770 - val_loss: 0.0905 - val_accuracy: 0.9713\n",
            "Epoch 7/30\n",
            "417/417 [==============================] - 7s 17ms/step - loss: 0.0587 - accuracy: 0.9816 - val_loss: 0.0826 - val_accuracy: 0.9747\n",
            "Epoch 8/30\n",
            "417/417 [==============================] - 9s 21ms/step - loss: 0.0490 - accuracy: 0.9848 - val_loss: 0.0870 - val_accuracy: 0.9732\n",
            "Epoch 9/30\n",
            "417/417 [==============================] - 9s 21ms/step - loss: 0.0388 - accuracy: 0.9880 - val_loss: 0.0752 - val_accuracy: 0.9768\n",
            "Epoch 10/30\n",
            "417/417 [==============================] - 7s 18ms/step - loss: 0.0294 - accuracy: 0.9912 - val_loss: 0.0798 - val_accuracy: 0.9764\n",
            "Epoch 11/30\n",
            "417/417 [==============================] - 8s 20ms/step - loss: 0.0257 - accuracy: 0.9920 - val_loss: 0.0846 - val_accuracy: 0.9756\n",
            "Epoch 12/30\n",
            "417/417 [==============================] - 8s 19ms/step - loss: 0.0197 - accuracy: 0.9938 - val_loss: 0.0812 - val_accuracy: 0.9769\n",
            "Epoch 13/30\n",
            "417/417 [==============================] - 8s 20ms/step - loss: 0.0167 - accuracy: 0.9950 - val_loss: 0.0766 - val_accuracy: 0.9798\n",
            "Epoch 14/30\n",
            "417/417 [==============================] - 9s 20ms/step - loss: 0.0136 - accuracy: 0.9959 - val_loss: 0.0834 - val_accuracy: 0.9785\n",
            "Epoch 15/30\n",
            "417/417 [==============================] - 8s 18ms/step - loss: 0.0101 - accuracy: 0.9969 - val_loss: 0.0810 - val_accuracy: 0.9810\n",
            "Epoch 16/30\n",
            "417/417 [==============================] - 9s 21ms/step - loss: 0.0097 - accuracy: 0.9969 - val_loss: 0.0882 - val_accuracy: 0.9786\n",
            "Epoch 17/30\n",
            "417/417 [==============================] - 8s 20ms/step - loss: 0.0095 - accuracy: 0.9969 - val_loss: 0.0834 - val_accuracy: 0.9802\n",
            "Epoch 18/30\n",
            "417/417 [==============================] - 7s 18ms/step - loss: 0.0072 - accuracy: 0.9978 - val_loss: 0.0930 - val_accuracy: 0.9794\n",
            "Epoch 19/30\n",
            "417/417 [==============================] - 8s 20ms/step - loss: 0.0112 - accuracy: 0.9962 - val_loss: 0.0913 - val_accuracy: 0.9783\n",
            "Epoch 20/30\n",
            "417/417 [==============================] - 9s 22ms/step - loss: 0.0075 - accuracy: 0.9975 - val_loss: 0.0973 - val_accuracy: 0.9783\n",
            "Epoch 21/30\n",
            "417/417 [==============================] - 8s 18ms/step - loss: 0.0056 - accuracy: 0.9983 - val_loss: 0.1035 - val_accuracy: 0.9779\n",
            "Epoch 22/30\n",
            "417/417 [==============================] - 8s 20ms/step - loss: 0.0047 - accuracy: 0.9987 - val_loss: 0.0980 - val_accuracy: 0.9798\n",
            "Epoch 23/30\n",
            "417/417 [==============================] - 8s 19ms/step - loss: 0.0068 - accuracy: 0.9977 - val_loss: 0.0932 - val_accuracy: 0.9799\n",
            "Epoch 24/30\n",
            "417/417 [==============================] - 8s 19ms/step - loss: 0.0024 - accuracy: 0.9994 - val_loss: 0.1079 - val_accuracy: 0.9785\n",
            "Epoch 25/30\n",
            "417/417 [==============================] - 8s 20ms/step - loss: 0.0050 - accuracy: 0.9985 - val_loss: 0.1073 - val_accuracy: 0.9799\n",
            "Epoch 26/30\n",
            "417/417 [==============================] - 7s 18ms/step - loss: 0.0103 - accuracy: 0.9963 - val_loss: 0.1008 - val_accuracy: 0.9813\n",
            "Epoch 27/30\n",
            "417/417 [==============================] - 8s 20ms/step - loss: 0.0016 - accuracy: 0.9997 - val_loss: 0.0945 - val_accuracy: 0.9823\n",
            "Epoch 28/30\n",
            "417/417 [==============================] - 9s 21ms/step - loss: 0.0010 - accuracy: 0.9998 - val_loss: 0.0937 - val_accuracy: 0.9836\n",
            "Epoch 29/30\n",
            "417/417 [==============================] - 8s 18ms/step - loss: 3.0636e-04 - accuracy: 1.0000 - val_loss: 0.0939 - val_accuracy: 0.9843\n",
            "Epoch 30/30\n",
            "417/417 [==============================] - 9s 21ms/step - loss: 7.1863e-04 - accuracy: 0.9998 - val_loss: 0.1045 - val_accuracy: 0.9824\n"
          ]
        }
      ]
    },
    {
      "cell_type": "code",
      "source": [
        "score = model.evaluate(x_test, y_testc, verbose=1) #evaluar la eficiencia del modelo\n",
        "print(score)\n",
        "a=model.predict(x_test) #predicción de la red entrenada\n",
        "print(a.shape)\n",
        "print(a[1])\n",
        "print(\"resultado correcto:\")\n",
        "print(y_testc[1])\n"
      ],
      "metadata": {
        "id": "EwFrc-kT3c4k",
        "colab": {
          "base_uri": "https://localhost:8080/"
        },
        "outputId": "363723ca-94d6-444a-faec-f0716926a4bb"
      },
      "execution_count": 14,
      "outputs": [
        {
          "output_type": "stream",
          "name": "stdout",
          "text": [
            "313/313 [==============================] - 1s 4ms/step - loss: 0.1045 - accuracy: 0.9824\n",
            "[0.1045457124710083, 0.9824000000953674]\n",
            "313/313 [==============================] - 2s 5ms/step\n",
            "(10000, 10)\n",
            "[1.2892334e-06 9.7742242e-01 1.0000000e+00 6.0940924e-04 1.2631001e-17\n",
            " 5.4947611e-07 5.9317646e-04 1.8994513e-04 8.3227083e-02 5.1537204e-19]\n",
            "resultado correcto:\n",
            "[0. 0. 1. 0. 0. 0. 0. 0. 0. 0.]\n"
          ]
        }
      ]
    },
    {
      "cell_type": "code",
      "source": [
        "#Para guardar el modelo en disco\n",
        "#model.save(\"red.h5\")"
      ],
      "metadata": {
        "id": "AWXql1k04F7K"
      },
      "execution_count": null,
      "outputs": []
    },
    {
      "cell_type": "code",
      "source": [
        "#para cargar la red:\n",
        "#modelo_cargado = tf.keras.models.load_model('red.h5')"
      ],
      "metadata": {
        "id": "CDsy85rb4Cs_"
      },
      "execution_count": null,
      "outputs": []
    }
  ]
}