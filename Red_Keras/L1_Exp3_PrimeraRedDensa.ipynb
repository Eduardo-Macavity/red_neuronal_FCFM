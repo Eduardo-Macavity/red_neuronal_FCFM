{
  "nbformat": 4,
  "nbformat_minor": 0,
  "metadata": {
    "colab": {
      "provenance": []
    },
    "kernelspec": {
      "name": "python3",
      "display_name": "Python 3"
    },
    "language_info": {
      "name": "python"
    }
  },
  "cells": [
    {
      "cell_type": "code",
      "source": [
        "%pip install comet_ml"
      ],
      "metadata": {
        "colab": {
          "base_uri": "https://localhost:8080/"
        },
        "id": "iPHaWsph4bfq",
        "outputId": "7dfd1a80-158e-4525-ffca-6a3a64c08285"
      },
      "execution_count": 1,
      "outputs": [
        {
          "output_type": "stream",
          "name": "stdout",
          "text": [
            "Collecting comet_ml\n",
            "  Downloading comet_ml-3.33.10-py3-none-any.whl (561 kB)\n",
            "\u001b[2K     \u001b[90m━━━━━━━━━━━━━━━━━━━━━━━━━━━━━━━━━━━━━━━\u001b[0m \u001b[32m561.9/561.9 kB\u001b[0m \u001b[31m5.1 MB/s\u001b[0m eta \u001b[36m0:00:00\u001b[0m\n",
            "\u001b[?25hRequirement already satisfied: jsonschema!=3.1.0,>=2.6.0 in /usr/local/lib/python3.10/dist-packages (from comet_ml) (4.19.0)\n",
            "Requirement already satisfied: psutil>=5.6.3 in /usr/local/lib/python3.10/dist-packages (from comet_ml) (5.9.5)\n",
            "Collecting python-box<7.0.0 (from comet_ml)\n",
            "  Downloading python_box-6.1.0-cp310-cp310-manylinux_2_17_x86_64.manylinux2014_x86_64.whl (3.3 MB)\n",
            "\u001b[2K     \u001b[90m━━━━━━━━━━━━━━━━━━━━━━━━━━━━━━━━━━━━━━━━\u001b[0m \u001b[32m3.3/3.3 MB\u001b[0m \u001b[31m12.5 MB/s\u001b[0m eta \u001b[36m0:00:00\u001b[0m\n",
            "\u001b[?25hCollecting requests-toolbelt>=0.8.0 (from comet_ml)\n",
            "  Downloading requests_toolbelt-1.0.0-py2.py3-none-any.whl (54 kB)\n",
            "\u001b[2K     \u001b[90m━━━━━━━━━━━━━━━━━━━━━━━━━━━━━━━━━━━━━━━━\u001b[0m \u001b[32m54.5/54.5 kB\u001b[0m \u001b[31m5.9 MB/s\u001b[0m eta \u001b[36m0:00:00\u001b[0m\n",
            "\u001b[?25hRequirement already satisfied: requests>=2.18.4 in /usr/local/lib/python3.10/dist-packages (from comet_ml) (2.31.0)\n",
            "Collecting semantic-version>=2.8.0 (from comet_ml)\n",
            "  Downloading semantic_version-2.10.0-py2.py3-none-any.whl (15 kB)\n",
            "Collecting sentry-sdk>=1.1.0 (from comet_ml)\n",
            "  Downloading sentry_sdk-1.31.0-py2.py3-none-any.whl (224 kB)\n",
            "\u001b[2K     \u001b[90m━━━━━━━━━━━━━━━━━━━━━━━━━━━━━━━━━━━━━━\u001b[0m \u001b[32m224.8/224.8 kB\u001b[0m \u001b[31m19.0 MB/s\u001b[0m eta \u001b[36m0:00:00\u001b[0m\n",
            "\u001b[?25hCollecting simplejson (from comet_ml)\n",
            "  Downloading simplejson-3.19.1-cp310-cp310-manylinux_2_5_x86_64.manylinux1_x86_64.manylinux_2_17_x86_64.manylinux2014_x86_64.whl (137 kB)\n",
            "\u001b[2K     \u001b[90m━━━━━━━━━━━━━━━━━━━━━━━━━━━━━━━━━━━━━━━\u001b[0m \u001b[32m137.9/137.9 kB\u001b[0m \u001b[31m9.2 MB/s\u001b[0m eta \u001b[36m0:00:00\u001b[0m\n",
            "\u001b[?25hRequirement already satisfied: six in /usr/local/lib/python3.10/dist-packages (from comet_ml) (1.16.0)\n",
            "Requirement already satisfied: urllib3>=1.21.1 in /usr/local/lib/python3.10/dist-packages (from comet_ml) (2.0.4)\n",
            "Collecting websocket-client<1.4.0,>=0.55.0 (from comet_ml)\n",
            "  Downloading websocket_client-1.3.3-py3-none-any.whl (54 kB)\n",
            "\u001b[2K     \u001b[90m━━━━━━━━━━━━━━━━━━━━━━━━━━━━━━━━━━━━━━━━\u001b[0m \u001b[32m54.3/54.3 kB\u001b[0m \u001b[31m5.8 MB/s\u001b[0m eta \u001b[36m0:00:00\u001b[0m\n",
            "\u001b[?25hRequirement already satisfied: wrapt>=1.11.2 in /usr/local/lib/python3.10/dist-packages (from comet_ml) (1.15.0)\n",
            "Collecting wurlitzer>=1.0.2 (from comet_ml)\n",
            "  Downloading wurlitzer-3.0.3-py3-none-any.whl (7.3 kB)\n",
            "Collecting everett[ini]<3.2.0,>=1.0.1 (from comet_ml)\n",
            "  Downloading everett-3.1.0-py2.py3-none-any.whl (35 kB)\n",
            "Collecting dulwich!=0.20.33,>=0.20.6 (from comet_ml)\n",
            "  Downloading dulwich-0.21.6-cp310-cp310-manylinux_2_17_x86_64.manylinux2014_x86_64.whl (512 kB)\n",
            "\u001b[2K     \u001b[90m━━━━━━━━━━━━━━━━━━━━━━━━━━━━━━━━━━━━━━\u001b[0m \u001b[32m512.2/512.2 kB\u001b[0m \u001b[31m10.9 MB/s\u001b[0m eta \u001b[36m0:00:00\u001b[0m\n",
            "\u001b[?25hRequirement already satisfied: rich>=13.3.2 in /usr/local/lib/python3.10/dist-packages (from comet_ml) (13.5.2)\n",
            "Collecting configobj (from everett[ini]<3.2.0,>=1.0.1->comet_ml)\n",
            "  Downloading configobj-5.0.8-py2.py3-none-any.whl (36 kB)\n",
            "Requirement already satisfied: attrs>=22.2.0 in /usr/local/lib/python3.10/dist-packages (from jsonschema!=3.1.0,>=2.6.0->comet_ml) (23.1.0)\n",
            "Requirement already satisfied: jsonschema-specifications>=2023.03.6 in /usr/local/lib/python3.10/dist-packages (from jsonschema!=3.1.0,>=2.6.0->comet_ml) (2023.7.1)\n",
            "Requirement already satisfied: referencing>=0.28.4 in /usr/local/lib/python3.10/dist-packages (from jsonschema!=3.1.0,>=2.6.0->comet_ml) (0.30.2)\n",
            "Requirement already satisfied: rpds-py>=0.7.1 in /usr/local/lib/python3.10/dist-packages (from jsonschema!=3.1.0,>=2.6.0->comet_ml) (0.10.2)\n",
            "Requirement already satisfied: charset-normalizer<4,>=2 in /usr/local/lib/python3.10/dist-packages (from requests>=2.18.4->comet_ml) (3.2.0)\n",
            "Requirement already satisfied: idna<4,>=2.5 in /usr/local/lib/python3.10/dist-packages (from requests>=2.18.4->comet_ml) (3.4)\n",
            "Requirement already satisfied: certifi>=2017.4.17 in /usr/local/lib/python3.10/dist-packages (from requests>=2.18.4->comet_ml) (2023.7.22)\n",
            "Requirement already satisfied: markdown-it-py>=2.2.0 in /usr/local/lib/python3.10/dist-packages (from rich>=13.3.2->comet_ml) (3.0.0)\n",
            "Requirement already satisfied: pygments<3.0.0,>=2.13.0 in /usr/local/lib/python3.10/dist-packages (from rich>=13.3.2->comet_ml) (2.16.1)\n",
            "Requirement already satisfied: mdurl~=0.1 in /usr/local/lib/python3.10/dist-packages (from markdown-it-py>=2.2.0->rich>=13.3.2->comet_ml) (0.1.2)\n",
            "Installing collected packages: everett, wurlitzer, websocket-client, simplejson, sentry-sdk, semantic-version, python-box, dulwich, configobj, requests-toolbelt, comet_ml\n",
            "  Attempting uninstall: websocket-client\n",
            "    Found existing installation: websocket-client 1.6.2\n",
            "    Uninstalling websocket-client-1.6.2:\n",
            "      Successfully uninstalled websocket-client-1.6.2\n",
            "  Attempting uninstall: python-box\n",
            "    Found existing installation: python-box 7.1.1\n",
            "    Uninstalling python-box-7.1.1:\n",
            "      Successfully uninstalled python-box-7.1.1\n",
            "Successfully installed comet_ml-3.33.10 configobj-5.0.8 dulwich-0.21.6 everett-3.1.0 python-box-6.1.0 requests-toolbelt-1.0.0 semantic-version-2.10.0 sentry-sdk-1.31.0 simplejson-3.19.1 websocket-client-1.3.3 wurlitzer-3.0.3\n"
          ]
        }
      ]
    },
    {
      "cell_type": "code",
      "source": [
        "import comet_ml\n",
        "comet_ml.init(project_name=\"Prueba comet\")"
      ],
      "metadata": {
        "id": "KP2jzQfA4hYZ"
      },
      "execution_count": 10,
      "outputs": []
    },
    {
      "cell_type": "code",
      "execution_count": 11,
      "metadata": {
        "id": "GJ_8iPWWN8fn"
      },
      "outputs": [],
      "source": [
        "import tensorflow as tf\n",
        "from tensorflow import keras\n",
        "#from tensorflow.keras.datasets import mnist\n",
        "from tensorflow.keras.models import Sequential\n",
        "from tensorflow.keras.layers import Dense, Dropout, Activation\n",
        "from tensorflow.keras.optimizers import RMSprop, SGD\n",
        "from tensorflow.keras import regularizers\n",
        "from keras.callbacks import ModelCheckpoint\n",
        "import gzip\n",
        "import pickle\n",
        "import numpy as np"
      ]
    },
    {
      "cell_type": "code",
      "source": [
        "experiment = comet_ml.Experiment(\n",
        "    auto_histogram_weight_logging=True,\n",
        "    auto_histogram_gradient_logging=True,\n",
        "    auto_histogram_activation_logging=True,\n",
        "    log_code=True,\n",
        ")"
      ],
      "metadata": {
        "colab": {
          "base_uri": "https://localhost:8080/"
        },
        "id": "ASfwNMFq8uaN",
        "outputId": "a081a916-a6f9-4b41-a807-4d450db6036d"
      },
      "execution_count": 13,
      "outputs": [
        {
          "output_type": "stream",
          "name": "stderr",
          "text": [
            "\u001b[1;38;5;214mCOMET WARNING:\u001b[0m As you are running in a Jupyter environment, you will need to call `experiment.end()` when finished to ensure all metrics and code are logged before exiting.\n",
            "\u001b[1;38;5;39mCOMET INFO:\u001b[0m Couldn't find a Git repository in '/content' nor in any parent directory. Set `COMET_GIT_DIRECTORY` if your Git Repository is elsewhere.\n",
            "\u001b[1;38;5;39mCOMET INFO:\u001b[0m Experiment is live on comet.com https://www.comet.com/eduardo-macavity/prueba-comet/7d457e17d2bd4f8e807465177f272b48\n",
            "\n"
          ]
        }
      ]
    },
    {
      "cell_type": "code",
      "source": [
        "learning_rate = 0.001\n",
        "epochs = 30\n",
        "batch_size = 120"
      ],
      "metadata": {
        "id": "_5WnkpI7OSmv"
      },
      "execution_count": 8,
      "outputs": []
    },
    {
      "cell_type": "code",
      "source": [
        "modelo_cargado = tf.keras.models.load_model('best_model.hdf5')"
      ],
      "metadata": {
        "id": "j4SxLZM86t5F"
      },
      "execution_count": 25,
      "outputs": []
    },
    {
      "cell_type": "code",
      "source": [
        "parameters = {\n",
        "    \"batch_size\": 128,\n",
        "    \"epochs\": 30,\n",
        "    \"optimizer\": \"adam\",\n",
        "    \"loss\": \"binary_crossentropy\",\n",
        "}\n",
        "\n",
        "experiment.log_parameters(parameters)"
      ],
      "metadata": {
        "id": "xBe3_YJX45AR"
      },
      "execution_count": 32,
      "outputs": []
    },
    {
      "cell_type": "code",
      "source": [
        "#Cargamos los datos\n",
        "f = gzip.open('mnist.pkl.gz', 'rb')\n",
        "dataset = pickle.load(f,encoding=\"latin1\")"
      ],
      "metadata": {
        "id": "xAGhEsx-P_MP"
      },
      "execution_count": 15,
      "outputs": []
    },
    {
      "cell_type": "code",
      "source": [
        "dat=np.array(dataset)\n",
        "print(dat[1,1].shape)\n",
        "(x_train, y_train), (x_val, y_val), (x_test, y_test) = dataset"
      ],
      "metadata": {
        "colab": {
          "base_uri": "https://localhost:8080/"
        },
        "id": "kUgQhC-yQmoA",
        "outputId": "623c373d-f54a-4a7a-ae18-5dff67405000"
      },
      "execution_count": 16,
      "outputs": [
        {
          "output_type": "stream",
          "name": "stdout",
          "text": [
            "(10000,)\n"
          ]
        },
        {
          "output_type": "stream",
          "name": "stderr",
          "text": [
            "<ipython-input-16-9d04016ce3ca>:1: VisibleDeprecationWarning: Creating an ndarray from ragged nested sequences (which is a list-or-tuple of lists-or-tuples-or ndarrays with different lengths or shapes) is deprecated. If you meant to do this, you must specify 'dtype=object' when creating the ndarray.\n",
            "  dat=np.array(dataset)\n"
          ]
        }
      ]
    },
    {
      "cell_type": "code",
      "source": [
        "x_train = x_train.astype('float32')\n",
        "x_test = x_test.astype('float32')"
      ],
      "metadata": {
        "id": "xSwgxQ0kTwWT"
      },
      "execution_count": 17,
      "outputs": []
    },
    {
      "cell_type": "code",
      "source": [
        "num_classes=10\n",
        "y_trainc = keras.utils.to_categorical(y_train, num_classes)\n",
        "y_testc = keras.utils.to_categorical(y_test, num_classes)"
      ],
      "metadata": {
        "id": "R-amYxZGUndc"
      },
      "execution_count": 18,
      "outputs": []
    },
    {
      "cell_type": "code",
      "source": [
        "model = Sequential(modelo_cargado)\n",
        "model.add(Dense(512, activation='sigmoid', input_shape=(784,)))\n",
        "model.add(Dense(600,activation='tanh'))\n",
        "model.add(Dense(200,activation='selu'))\n",
        "model.add(Dense(600,activation='relu'))\n",
        "model.add(Dense(100,activation='elu'))\n",
        "model.add(Dense(400, activation='selu', kernel_regularizer=regularizers.L1(0.01) )) #Regularizacion L1\n",
        "model.add(Dense(600,activation='sigmoid'))\n",
        "model.add(Dense(500,activation='exponential'))\n",
        "model.add(Dense(num_classes, activation='sigmoid'))\n",
        "\n",
        "model.summary()"
      ],
      "metadata": {
        "colab": {
          "base_uri": "https://localhost:8080/"
        },
        "id": "6bd_72sQjpgz",
        "outputId": "73269d6e-9db5-4585-d59c-6877debe1800"
      },
      "execution_count": 33,
      "outputs": [
        {
          "output_type": "stream",
          "name": "stdout",
          "text": [
            "Model: \"sequential_3\"\n",
            "_________________________________________________________________\n",
            " Layer (type)                Output Shape              Param #   \n",
            "=================================================================\n",
            " sequential (Sequential)     (None, 10)                1376730   \n",
            "                                                                 \n",
            " dense_25 (Dense)            (None, 512)               5632      \n",
            "                                                                 \n",
            " dense_26 (Dense)            (None, 600)               307800    \n",
            "                                                                 \n",
            " dense_27 (Dense)            (None, 200)               120200    \n",
            "                                                                 \n",
            " dense_28 (Dense)            (None, 600)               120600    \n",
            "                                                                 \n",
            " dense_29 (Dense)            (None, 100)               60100     \n",
            "                                                                 \n",
            " dense_30 (Dense)            (None, 400)               40400     \n",
            "                                                                 \n",
            " dense_31 (Dense)            (None, 600)               240600    \n",
            "                                                                 \n",
            " dense_32 (Dense)            (None, 500)               300500    \n",
            "                                                                 \n",
            " dense_33 (Dense)            (None, 10)                5010      \n",
            "                                                                 \n",
            "=================================================================\n",
            "Total params: 2577572 (9.83 MB)\n",
            "Trainable params: 2577572 (9.83 MB)\n",
            "Non-trainable params: 0 (0.00 Byte)\n",
            "_________________________________________________________________\n"
          ]
        }
      ]
    },
    {
      "cell_type": "code",
      "source": [
        "# specify the path where you want to save the model\n",
        "#filepath = \"best_model.hdf5\"\n",
        "\n",
        "# initialize the ModelCheckpoint callback\n",
        "#checkpoint = ModelCheckpoint(filepath, monitor='val_loss', verbose=1, save_best_only=True, mode='min')"
      ],
      "metadata": {
        "id": "AWWQAJFC7ZIu"
      },
      "execution_count": 20,
      "outputs": []
    },
    {
      "cell_type": "code",
      "source": [
        "model.compile(loss=parameters['loss'],optimizer=parameters['optimizer'],metrics=['accuracy'])\n"
      ],
      "metadata": {
        "id": "Ei5HKOGajtVL"
      },
      "execution_count": 34,
      "outputs": []
    },
    {
      "cell_type": "code",
      "source": [
        "model.fit(x_train, y_trainc,\n",
        "                    batch_size=parameters['batch_size'],\n",
        "                    epochs=parameters[\"epochs\"],\n",
        "                    verbose=1,\n",
        "                    validation_data=(x_test, y_testc),\n",
        "                    )"
      ],
      "metadata": {
        "id": "2_k28zDtXJMb",
        "colab": {
          "base_uri": "https://localhost:8080/"
        },
        "outputId": "b26d871e-627a-43eb-c9f7-43fc81227276"
      },
      "execution_count": 35,
      "outputs": [
        {
          "output_type": "stream",
          "name": "stdout",
          "text": [
            "Epoch 1/30\n",
            "417/417 [==============================] - 35s 76ms/step - loss: 2.3568 - accuracy: 0.1053 - val_loss: 0.3722 - val_accuracy: 0.0958\n",
            "Epoch 2/30\n",
            "417/417 [==============================] - 31s 75ms/step - loss: 0.3714 - accuracy: 0.1046 - val_loss: 0.3697 - val_accuracy: 0.0982\n",
            "Epoch 3/30\n",
            "417/417 [==============================] - 35s 83ms/step - loss: 0.3701 - accuracy: 0.1048 - val_loss: 0.3697 - val_accuracy: 0.1135\n",
            "Epoch 4/30\n",
            "417/417 [==============================] - 32s 77ms/step - loss: 0.3690 - accuracy: 0.1080 - val_loss: 0.3690 - val_accuracy: 0.1135\n",
            "Epoch 5/30\n",
            "417/417 [==============================] - 31s 74ms/step - loss: 0.3683 - accuracy: 0.1056 - val_loss: 0.3680 - val_accuracy: 0.1135\n",
            "Epoch 6/30\n",
            "417/417 [==============================] - 33s 78ms/step - loss: 0.3675 - accuracy: 0.1076 - val_loss: 0.3676 - val_accuracy: 0.1028\n",
            "Epoch 7/30\n",
            "417/417 [==============================] - 34s 82ms/step - loss: 0.3674 - accuracy: 0.1086 - val_loss: 0.3670 - val_accuracy: 0.1135\n",
            "Epoch 8/30\n",
            "417/417 [==============================] - 37s 89ms/step - loss: 0.3670 - accuracy: 0.1096 - val_loss: 0.3672 - val_accuracy: 0.1135\n",
            "Epoch 9/30\n",
            "417/417 [==============================] - 38s 91ms/step - loss: 0.3669 - accuracy: 0.1101 - val_loss: 0.3668 - val_accuracy: 0.1028\n",
            "Epoch 10/30\n",
            "417/417 [==============================] - 38s 90ms/step - loss: 0.3669 - accuracy: 0.1095 - val_loss: 0.3667 - val_accuracy: 0.1135\n",
            "Epoch 11/30\n",
            "417/417 [==============================] - 37s 88ms/step - loss: 0.3668 - accuracy: 0.1106 - val_loss: 0.3669 - val_accuracy: 0.1009\n",
            "Epoch 12/30\n",
            "417/417 [==============================] - 36s 87ms/step - loss: 0.3669 - accuracy: 0.1113 - val_loss: 0.3667 - val_accuracy: 0.1135\n",
            "Epoch 13/30\n",
            "417/417 [==============================] - 38s 91ms/step - loss: 0.3668 - accuracy: 0.1096 - val_loss: 0.3668 - val_accuracy: 0.1010\n",
            "Epoch 14/30\n",
            "417/417 [==============================] - 37s 89ms/step - loss: 0.3669 - accuracy: 0.1115 - val_loss: 0.3663 - val_accuracy: 0.1135\n",
            "Epoch 15/30\n",
            "417/417 [==============================] - 34s 81ms/step - loss: 0.3668 - accuracy: 0.1121 - val_loss: 0.3666 - val_accuracy: 0.1135\n",
            "Epoch 16/30\n",
            "417/417 [==============================] - 36s 86ms/step - loss: 0.3668 - accuracy: 0.1101 - val_loss: 0.3665 - val_accuracy: 0.1135\n",
            "Epoch 17/30\n",
            "417/417 [==============================] - 38s 91ms/step - loss: 0.3668 - accuracy: 0.1114 - val_loss: 0.3669 - val_accuracy: 0.1135\n",
            "Epoch 18/30\n",
            "417/417 [==============================] - 37s 89ms/step - loss: 0.3669 - accuracy: 0.1122 - val_loss: 0.3668 - val_accuracy: 0.1028\n",
            "Epoch 19/30\n",
            "417/417 [==============================] - 36s 86ms/step - loss: 0.3669 - accuracy: 0.1096 - val_loss: 0.3671 - val_accuracy: 0.1135\n",
            "Epoch 20/30\n",
            "417/417 [==============================] - 40s 95ms/step - loss: 0.3668 - accuracy: 0.1115 - val_loss: 0.3668 - val_accuracy: 0.1135\n",
            "Epoch 21/30\n",
            "417/417 [==============================] - 36s 86ms/step - loss: 0.3668 - accuracy: 0.1098 - val_loss: 0.3670 - val_accuracy: 0.1009\n",
            "Epoch 22/30\n",
            "417/417 [==============================] - 37s 88ms/step - loss: 0.3668 - accuracy: 0.1107 - val_loss: 0.3670 - val_accuracy: 0.1135\n",
            "Epoch 23/30\n",
            "417/417 [==============================] - 37s 89ms/step - loss: 0.3668 - accuracy: 0.1103 - val_loss: 0.3671 - val_accuracy: 0.1135\n",
            "Epoch 24/30\n",
            "417/417 [==============================] - 35s 85ms/step - loss: 0.3668 - accuracy: 0.1127 - val_loss: 0.3666 - val_accuracy: 0.1010\n",
            "Epoch 25/30\n",
            "417/417 [==============================] - 37s 89ms/step - loss: 0.3668 - accuracy: 0.1111 - val_loss: 0.3668 - val_accuracy: 0.1135\n",
            "Epoch 26/30\n",
            "417/417 [==============================] - 37s 89ms/step - loss: 0.3668 - accuracy: 0.1113 - val_loss: 0.3669 - val_accuracy: 0.1135\n",
            "Epoch 27/30\n",
            "417/417 [==============================] - 37s 89ms/step - loss: 0.3668 - accuracy: 0.1118 - val_loss: 0.3667 - val_accuracy: 0.1135\n",
            "Epoch 28/30\n",
            "417/417 [==============================] - 36s 87ms/step - loss: 0.3668 - accuracy: 0.1125 - val_loss: 0.3666 - val_accuracy: 0.1135\n",
            "Epoch 29/30\n",
            "417/417 [==============================] - 37s 87ms/step - loss: 0.3668 - accuracy: 0.1098 - val_loss: 0.3672 - val_accuracy: 0.1135\n",
            "Epoch 30/30\n",
            "417/417 [==============================] - 39s 94ms/step - loss: 0.3668 - accuracy: 0.1111 - val_loss: 0.3669 - val_accuracy: 0.1032\n"
          ]
        },
        {
          "output_type": "execute_result",
          "data": {
            "text/plain": [
              "<keras.src.callbacks.History at 0x78e3a60a8b80>"
            ]
          },
          "metadata": {},
          "execution_count": 35
        }
      ]
    },
    {
      "cell_type": "code",
      "source": [
        "score = model.evaluate(x_test, y_testc, verbose=1) #evaluar la eficiencia del modelo\n",
        "print(score)\n",
        "a=model.predict(x_test) #predicción de la red entrenada\n",
        "print(a.shape)\n",
        "print(a[1])\n",
        "print(\"resultado correcto:\")\n",
        "print(y_testc[1])\n"
      ],
      "metadata": {
        "id": "EwFrc-kT3c4k",
        "colab": {
          "base_uri": "https://localhost:8080/"
        },
        "outputId": "012bcf32-8a20-4da6-eb0b-cdbba51c7178"
      },
      "execution_count": 36,
      "outputs": [
        {
          "output_type": "stream",
          "name": "stdout",
          "text": [
            "313/313 [==============================] - 4s 13ms/step - loss: 0.3669 - accuracy: 0.1032\n",
            "[0.36685875058174133, 0.10320000350475311]\n",
            "313/313 [==============================] - 4s 13ms/step\n",
            "(10000, 10)\n",
            "[0.0935039  0.10666244 0.10771217 0.10760037 0.09827911 0.08267973\n",
            " 0.10107709 0.10611781 0.09358405 0.09770516]\n",
            "resultado correcto:\n",
            "[0. 0. 1. 0. 0. 0. 0. 0. 0. 0.]\n"
          ]
        }
      ]
    },
    {
      "cell_type": "code",
      "source": [
        "experiment.log_model(\"MNIST1\", \"best_model.hdf5\")"
      ],
      "metadata": {
        "colab": {
          "base_uri": "https://localhost:8080/"
        },
        "id": "h1oCreLe691c",
        "outputId": "2732fe9f-45fa-4cdf-a126-1c8dab92c8df"
      },
      "execution_count": 37,
      "outputs": [
        {
          "output_type": "execute_result",
          "data": {
            "text/plain": [
              "{'web': 'https://www.comet.com/api/asset/download?assetId=be8e14c22959445bb5c58860f3c9e553&experimentKey=7d457e17d2bd4f8e807465177f272b48',\n",
              " 'api': 'https://www.comet.com/api/rest/v2/experiment/asset/get-asset?assetId=be8e14c22959445bb5c58860f3c9e553&experimentKey=7d457e17d2bd4f8e807465177f272b48',\n",
              " 'assetId': 'be8e14c22959445bb5c58860f3c9e553'}"
            ]
          },
          "metadata": {},
          "execution_count": 37
        }
      ]
    },
    {
      "cell_type": "code",
      "source": [
        "experiment.end()"
      ],
      "metadata": {
        "id": "CDsy85rb4Cs_",
        "colab": {
          "base_uri": "https://localhost:8080/"
        },
        "outputId": "ba9d94f5-233f-4c01-9ea6-8013234fff58"
      },
      "execution_count": 38,
      "outputs": [
        {
          "output_type": "stream",
          "name": "stderr",
          "text": [
            "\u001b[1;38;5;39mCOMET INFO:\u001b[0m ---------------------------------------------------------------------------------------\n",
            "\u001b[1;38;5;39mCOMET INFO:\u001b[0m Comet.ml Experiment Summary\n",
            "\u001b[1;38;5;39mCOMET INFO:\u001b[0m ---------------------------------------------------------------------------------------\n",
            "\u001b[1;38;5;39mCOMET INFO:\u001b[0m   Data:\n",
            "\u001b[1;38;5;39mCOMET INFO:\u001b[0m     display_summary_level : 1\n",
            "\u001b[1;38;5;39mCOMET INFO:\u001b[0m     url                   : https://www.comet.com/eduardo-macavity/prueba-comet/7d457e17d2bd4f8e807465177f272b48\n",
            "\u001b[1;38;5;39mCOMET INFO:\u001b[0m   Metrics [count] (min, max):\n",
            "\u001b[1;38;5;39mCOMET INFO:\u001b[0m     accuracy [97]                 : (0.10288000106811523, 0.9986799955368042)\n",
            "\u001b[1;38;5;39mCOMET INFO:\u001b[0m     batch_accuracy [3980]         : (0.0390625, 1.0)\n",
            "\u001b[1;38;5;39mCOMET INFO:\u001b[0m     batch_loss [3980]             : (1.5389645341201685e-05, 22.718931198120117)\n",
            "\u001b[1;38;5;39mCOMET INFO:\u001b[0m     epoch_duration [97]           : (15.976230362999786, 42.51298712300013)\n",
            "\u001b[1;38;5;39mCOMET INFO:\u001b[0m     loss [97]                     : (0.0008520971750840545, 2.4865736961364746)\n",
            "\u001b[1;38;5;39mCOMET INFO:\u001b[0m     val_accuracy [97]             : (0.0957999974489212, 0.9818999767303467)\n",
            "\u001b[1;38;5;39mCOMET INFO:\u001b[0m     val_loss [97]                 : (0.016265442594885826, 0.3735179007053375)\n",
            "\u001b[1;38;5;39mCOMET INFO:\u001b[0m     validate_batch_accuracy [806] : (0.078125, 1.0)\n",
            "\u001b[1;38;5;39mCOMET INFO:\u001b[0m     validate_batch_loss [806]     : (0.00019543428788892925, 0.37349486351013184)\n",
            "\u001b[1;38;5;39mCOMET INFO:\u001b[0m   Others:\n",
            "\u001b[1;38;5;39mCOMET INFO:\u001b[0m     trainable_params : 2577572\n",
            "\u001b[1;38;5;39mCOMET INFO:\u001b[0m   Parameters:\n",
            "\u001b[1;38;5;39mCOMET INFO:\u001b[0m     Adam_amsgrad                 : False\n",
            "\u001b[1;38;5;39mCOMET INFO:\u001b[0m     Adam_beta_1                  : 0.9\n",
            "\u001b[1;38;5;39mCOMET INFO:\u001b[0m     Adam_beta_2                  : 0.999\n",
            "\u001b[1;38;5;39mCOMET INFO:\u001b[0m     Adam_clipnorm                : 1\n",
            "\u001b[1;38;5;39mCOMET INFO:\u001b[0m     Adam_clipvalue               : 1\n",
            "\u001b[1;38;5;39mCOMET INFO:\u001b[0m     Adam_ema_momentum            : 0.99\n",
            "\u001b[1;38;5;39mCOMET INFO:\u001b[0m     Adam_ema_overwrite_frequency : 1\n",
            "\u001b[1;38;5;39mCOMET INFO:\u001b[0m     Adam_epsilon                 : 1e-07\n",
            "\u001b[1;38;5;39mCOMET INFO:\u001b[0m     Adam_global_clipnorm         : 1\n",
            "\u001b[1;38;5;39mCOMET INFO:\u001b[0m     Adam_is_legacy_optimizer     : False\n",
            "\u001b[1;38;5;39mCOMET INFO:\u001b[0m     Adam_jit_compile             : False\n",
            "\u001b[1;38;5;39mCOMET INFO:\u001b[0m     Adam_learning_rate           : 0.0010000000474974513\n",
            "\u001b[1;38;5;39mCOMET INFO:\u001b[0m     Adam_name                    : Adam\n",
            "\u001b[1;38;5;39mCOMET INFO:\u001b[0m     Adam_use_ema                 : False\n",
            "\u001b[1;38;5;39mCOMET INFO:\u001b[0m     Adam_weight_decay            : 1\n",
            "\u001b[1;38;5;39mCOMET INFO:\u001b[0m     batch_size                   : 120\n",
            "\u001b[1;38;5;39mCOMET INFO:\u001b[0m     epochs                       : 30\n",
            "\u001b[1;38;5;39mCOMET INFO:\u001b[0m     loss                         : binary_crossentropy\n",
            "\u001b[1;38;5;39mCOMET INFO:\u001b[0m     optimizer                    : adam\n",
            "\u001b[1;38;5;39mCOMET INFO:\u001b[0m     steps                        : 417\n",
            "\u001b[1;38;5;39mCOMET INFO:\u001b[0m   Uploads:\n",
            "\u001b[1;38;5;39mCOMET INFO:\u001b[0m     environment details : 1\n",
            "\u001b[1;38;5;39mCOMET INFO:\u001b[0m     filename            : 1\n",
            "\u001b[1;38;5;39mCOMET INFO:\u001b[0m     histogram3d         : 2997\n",
            "\u001b[1;38;5;39mCOMET INFO:\u001b[0m     installed packages  : 1\n",
            "\u001b[1;38;5;39mCOMET INFO:\u001b[0m     model graph         : 1\n",
            "\u001b[1;38;5;39mCOMET INFO:\u001b[0m     model-element       : 1 (15.82 MB)\n",
            "\u001b[1;38;5;39mCOMET INFO:\u001b[0m     notebook            : 2\n",
            "\u001b[1;38;5;39mCOMET INFO:\u001b[0m     os packages         : 1\n",
            "\u001b[1;38;5;39mCOMET INFO:\u001b[0m     source_code         : 1\n",
            "\u001b[1;38;5;39mCOMET INFO:\u001b[0m \n",
            "\u001b[1;38;5;39mCOMET INFO:\u001b[0m Please wait for metadata to finish uploading (timeout is 3600 seconds)\n"
          ]
        }
      ]
    }
  ]
}