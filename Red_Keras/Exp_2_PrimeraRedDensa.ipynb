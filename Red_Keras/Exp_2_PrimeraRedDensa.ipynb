{
  "nbformat": 4,
  "nbformat_minor": 0,
  "metadata": {
    "colab": {
      "provenance": []
    },
    "kernelspec": {
      "name": "python3",
      "display_name": "Python 3"
    },
    "language_info": {
      "name": "python"
    }
  },
  "cells": [
    {
      "cell_type": "code",
      "execution_count": 5,
      "metadata": {
        "id": "GJ_8iPWWN8fn"
      },
      "outputs": [],
      "source": [
        "import tensorflow as tf\n",
        "from tensorflow import keras\n",
        "#from tensorflow.keras.datasets import mnist\n",
        "from tensorflow.keras.models import Sequential\n",
        "from tensorflow.keras.layers import Dense, Dropout, Activation\n",
        "from tensorflow.keras.optimizers import RMSprop, SGD\n",
        "from tensorflow.keras import regularizers\n",
        "import gzip\n",
        "import pickle\n",
        "import numpy as np"
      ]
    },
    {
      "cell_type": "code",
      "source": [
        "learning_rate = 0.001\n",
        "epochs = 30\n",
        "batch_size = 120"
      ],
      "metadata": {
        "id": "_5WnkpI7OSmv"
      },
      "execution_count": 6,
      "outputs": []
    },
    {
      "cell_type": "code",
      "source": [
        "f = gzip.open('mnist.pkl.gz', 'rb')\n",
        "dataset = pickle.load(f,encoding=\"latin1\")"
      ],
      "metadata": {
        "id": "xAGhEsx-P_MP"
      },
      "execution_count": 7,
      "outputs": []
    },
    {
      "cell_type": "code",
      "source": [
        "dat=np.array(dataset)\n",
        "print(dat[1,1].shape)\n",
        "(x_train, y_train), (x_val, y_val), (x_test, y_test) = dataset"
      ],
      "metadata": {
        "colab": {
          "base_uri": "https://localhost:8080/"
        },
        "id": "kUgQhC-yQmoA",
        "outputId": "b971642e-d003-4676-8f1d-30c9c0973a79"
      },
      "execution_count": 8,
      "outputs": [
        {
          "output_type": "stream",
          "name": "stdout",
          "text": [
            "(10000,)\n"
          ]
        },
        {
          "output_type": "stream",
          "name": "stderr",
          "text": [
            "<ipython-input-8-9d04016ce3ca>:1: VisibleDeprecationWarning: Creating an ndarray from ragged nested sequences (which is a list-or-tuple of lists-or-tuples-or ndarrays with different lengths or shapes) is deprecated. If you meant to do this, you must specify 'dtype=object' when creating the ndarray.\n",
            "  dat=np.array(dataset)\n"
          ]
        }
      ]
    },
    {
      "cell_type": "code",
      "source": [
        "x_train.shape"
      ],
      "metadata": {
        "colab": {
          "base_uri": "https://localhost:8080/"
        },
        "id": "TwN7VEN_T0sr",
        "outputId": "80bb7748-6e97-437a-889f-0b4f88f20f70"
      },
      "execution_count": 9,
      "outputs": [
        {
          "output_type": "execute_result",
          "data": {
            "text/plain": [
              "(50000, 784)"
            ]
          },
          "metadata": {},
          "execution_count": 9
        }
      ]
    },
    {
      "cell_type": "code",
      "source": [
        "x_train = x_train.astype('float32')\n",
        "x_test = x_test.astype('float32')"
      ],
      "metadata": {
        "id": "xSwgxQ0kTwWT"
      },
      "execution_count": 10,
      "outputs": []
    },
    {
      "cell_type": "code",
      "source": [
        "print(y_train[10000])"
      ],
      "metadata": {
        "colab": {
          "base_uri": "https://localhost:8080/"
        },
        "id": "-8EYclMGUpFT",
        "outputId": "735ef366-fa9f-4178-883a-9dc87fb984ae"
      },
      "execution_count": 11,
      "outputs": [
        {
          "output_type": "stream",
          "name": "stdout",
          "text": [
            "3\n"
          ]
        }
      ]
    },
    {
      "cell_type": "code",
      "source": [
        "num_classes=10\n",
        "y_trainc = keras.utils.to_categorical(y_train, num_classes)\n",
        "y_testc = keras.utils.to_categorical(y_test, num_classes)"
      ],
      "metadata": {
        "id": "R-amYxZGUndc"
      },
      "execution_count": 12,
      "outputs": []
    },
    {
      "cell_type": "code",
      "source": [
        "y_trainc[10000]"
      ],
      "metadata": {
        "colab": {
          "base_uri": "https://localhost:8080/"
        },
        "id": "nxsmUUgaVELP",
        "outputId": "62684723-4456-4ca8-9732-8a8ff84dec92"
      },
      "execution_count": 13,
      "outputs": [
        {
          "output_type": "execute_result",
          "data": {
            "text/plain": [
              "array([0., 0., 0., 1., 0., 0., 0., 0., 0., 0.], dtype=float32)"
            ]
          },
          "metadata": {},
          "execution_count": 13
        }
      ]
    },
    {
      "cell_type": "code",
      "source": [
        "model = Sequential()\n",
        "model.add(Dense(512, activation='sigmoid', input_shape=(784,)))\n",
        "model.add(Dense(200,activation='tanh'))\n",
        "model.add(Dense(50,activation='exponential'))\n",
        "model.add(Dense(num_classes, activation='softmax'))\n",
        "\n",
        "model.summary()"
      ],
      "metadata": {
        "colab": {
          "base_uri": "https://localhost:8080/"
        },
        "id": "beuSlmuNVUDt",
        "outputId": "e457dae4-b47c-4a99-9cfa-5f50951672d8"
      },
      "execution_count": 14,
      "outputs": [
        {
          "output_type": "stream",
          "name": "stdout",
          "text": [
            "Model: \"sequential\"\n",
            "_________________________________________________________________\n",
            " Layer (type)                Output Shape              Param #   \n",
            "=================================================================\n",
            " dense (Dense)               (None, 512)               401920    \n",
            "                                                                 \n",
            " dense_1 (Dense)             (None, 200)               102600    \n",
            "                                                                 \n",
            " dense_2 (Dense)             (None, 50)                10050     \n",
            "                                                                 \n",
            " dense_3 (Dense)             (None, 10)                510       \n",
            "                                                                 \n",
            "=================================================================\n",
            "Total params: 515080 (1.96 MB)\n",
            "Trainable params: 515080 (1.96 MB)\n",
            "Non-trainable params: 0 (0.00 Byte)\n",
            "_________________________________________________________________\n"
          ]
        }
      ]
    },
    {
      "cell_type": "code",
      "source": [
        "model.compile(loss='categorical_crossentropy',optimizer='RMSprop',metrics=['accuracy'])"
      ],
      "metadata": {
        "id": "DA8CFMYtWmVE"
      },
      "execution_count": 15,
      "outputs": []
    },
    {
      "cell_type": "code",
      "source": [
        "history = model.fit(x_train, y_trainc,\n",
        "                    batch_size=batch_size,\n",
        "                    epochs=epochs,\n",
        "                    verbose=1,\n",
        "                    validation_data=(x_test, y_testc)\n",
        "                    )"
      ],
      "metadata": {
        "id": "2_k28zDtXJMb",
        "colab": {
          "base_uri": "https://localhost:8080/"
        },
        "outputId": "bb9f690c-5dcb-495f-dbf7-eb0e1f59e6a8"
      },
      "execution_count": 16,
      "outputs": [
        {
          "output_type": "stream",
          "name": "stdout",
          "text": [
            "Epoch 1/30\n",
            "417/417 [==============================] - 7s 14ms/step - loss: 0.6955 - accuracy: 0.7832 - val_loss: 0.2794 - val_accuracy: 0.9187\n",
            "Epoch 2/30\n",
            "417/417 [==============================] - 6s 15ms/step - loss: 0.2391 - accuracy: 0.9270 - val_loss: 0.2388 - val_accuracy: 0.9255\n",
            "Epoch 3/30\n",
            "417/417 [==============================] - 6s 14ms/step - loss: 0.1660 - accuracy: 0.9493 - val_loss: 0.1378 - val_accuracy: 0.9579\n",
            "Epoch 4/30\n",
            "417/417 [==============================] - 6s 15ms/step - loss: 0.1269 - accuracy: 0.9621 - val_loss: 0.1213 - val_accuracy: 0.9635\n",
            "Epoch 5/30\n",
            "417/417 [==============================] - 6s 14ms/step - loss: 0.1027 - accuracy: 0.9688 - val_loss: 0.1162 - val_accuracy: 0.9656\n",
            "Epoch 6/30\n",
            "417/417 [==============================] - 6s 16ms/step - loss: 0.0846 - accuracy: 0.9749 - val_loss: 0.1005 - val_accuracy: 0.9709\n",
            "Epoch 7/30\n",
            "417/417 [==============================] - 5s 13ms/step - loss: 0.0726 - accuracy: 0.9774 - val_loss: 0.0921 - val_accuracy: 0.9745\n",
            "Epoch 8/30\n",
            "417/417 [==============================] - 6s 15ms/step - loss: 0.0619 - accuracy: 0.9815 - val_loss: 0.1033 - val_accuracy: 0.9735\n",
            "Epoch 9/30\n",
            "417/417 [==============================] - 6s 14ms/step - loss: 0.0544 - accuracy: 0.9832 - val_loss: 0.1097 - val_accuracy: 0.9755\n",
            "Epoch 10/30\n",
            "417/417 [==============================] - 6s 15ms/step - loss: 0.0467 - accuracy: 0.9854 - val_loss: 0.0947 - val_accuracy: 0.9781\n",
            "Epoch 11/30\n",
            "417/417 [==============================] - 5s 13ms/step - loss: 0.0416 - accuracy: 0.9873 - val_loss: 0.1121 - val_accuracy: 0.9763\n",
            "Epoch 12/30\n",
            "417/417 [==============================] - 6s 14ms/step - loss: 0.0362 - accuracy: 0.9893 - val_loss: 0.1201 - val_accuracy: 0.9762\n",
            "Epoch 13/30\n",
            "417/417 [==============================] - 6s 14ms/step - loss: 0.0352 - accuracy: 0.9896 - val_loss: 0.1033 - val_accuracy: 0.9788\n",
            "Epoch 14/30\n",
            "417/417 [==============================] - 6s 14ms/step - loss: 0.0302 - accuracy: 0.9916 - val_loss: 0.1213 - val_accuracy: 0.9773\n",
            "Epoch 15/30\n",
            "417/417 [==============================] - 6s 15ms/step - loss: 0.0258 - accuracy: 0.9926 - val_loss: 0.1226 - val_accuracy: 0.9780\n",
            "Epoch 16/30\n",
            "417/417 [==============================] - 5s 13ms/step - loss: 0.0261 - accuracy: 0.9926 - val_loss: 0.3109 - val_accuracy: 0.9637\n",
            "Epoch 17/30\n",
            "417/417 [==============================] - 6s 15ms/step - loss: 0.0254 - accuracy: 0.9936 - val_loss: 0.1438 - val_accuracy: 0.9775\n",
            "Epoch 18/30\n",
            "417/417 [==============================] - 6s 13ms/step - loss: 0.0213 - accuracy: 0.9941 - val_loss: 0.2089 - val_accuracy: 0.9697\n",
            "Epoch 19/30\n",
            "417/417 [==============================] - 6s 15ms/step - loss: 0.0213 - accuracy: 0.9941 - val_loss: 0.2166 - val_accuracy: 0.9765\n",
            "Epoch 20/30\n",
            "417/417 [==============================] - 6s 14ms/step - loss: 0.0187 - accuracy: 0.9948 - val_loss: 0.2146 - val_accuracy: 0.9746\n",
            "Epoch 21/30\n",
            "417/417 [==============================] - 6s 15ms/step - loss: 0.0189 - accuracy: 0.9952 - val_loss: 0.2248 - val_accuracy: 0.9751\n",
            "Epoch 22/30\n",
            "417/417 [==============================] - 6s 14ms/step - loss: 0.0168 - accuracy: 0.9955 - val_loss: 0.2151 - val_accuracy: 0.9788\n",
            "Epoch 23/30\n",
            "417/417 [==============================] - 6s 15ms/step - loss: 0.0196 - accuracy: 0.9954 - val_loss: 0.1705 - val_accuracy: 0.9795\n",
            "Epoch 24/30\n",
            "417/417 [==============================] - 5s 13ms/step - loss: 0.0174 - accuracy: 0.9961 - val_loss: 0.2111 - val_accuracy: 0.9789\n",
            "Epoch 25/30\n",
            "417/417 [==============================] - 6s 15ms/step - loss: 0.0156 - accuracy: 0.9961 - val_loss: 0.2326 - val_accuracy: 0.9775\n",
            "Epoch 26/30\n",
            "417/417 [==============================] - 5s 13ms/step - loss: 0.0140 - accuracy: 0.9966 - val_loss: 0.2132 - val_accuracy: 0.9797\n",
            "Epoch 27/30\n",
            "417/417 [==============================] - 6s 15ms/step - loss: 0.0167 - accuracy: 0.9968 - val_loss: 0.2641 - val_accuracy: 0.9792\n",
            "Epoch 28/30\n",
            "417/417 [==============================] - 5s 13ms/step - loss: 0.0165 - accuracy: 0.9966 - val_loss: 0.2701 - val_accuracy: 0.9763\n",
            "Epoch 29/30\n",
            "417/417 [==============================] - 6s 15ms/step - loss: 0.0206 - accuracy: 0.9966 - val_loss: 0.2838 - val_accuracy: 0.9770\n",
            "Epoch 30/30\n",
            "417/417 [==============================] - 5s 13ms/step - loss: 0.0152 - accuracy: 0.9969 - val_loss: 0.2877 - val_accuracy: 0.9799\n"
          ]
        }
      ]
    },
    {
      "cell_type": "code",
      "source": [
        "score = model.evaluate(x_test, y_testc, verbose=1) #evaluar la eficiencia del modelo\n",
        "print(score)\n",
        "a=model.predict(x_test) #predicción de la red entrenada\n",
        "print(a.shape)\n",
        "print(a[1])\n",
        "print(\"resultado correcto:\")\n",
        "print(y_testc[1])\n"
      ],
      "metadata": {
        "id": "EwFrc-kT3c4k",
        "colab": {
          "base_uri": "https://localhost:8080/"
        },
        "outputId": "ef77b93e-13ee-4b8a-bd54-dbe295b34131"
      },
      "execution_count": 17,
      "outputs": [
        {
          "output_type": "stream",
          "name": "stdout",
          "text": [
            "313/313 [==============================] - 1s 5ms/step - loss: 0.2877 - accuracy: 0.9799\n",
            "[0.2877279818058014, 0.9799000024795532]\n",
            "313/313 [==============================] - 1s 4ms/step\n",
            "(10000, 10)\n",
            "[0.0000000e+00 3.4236526e-17 9.9999994e-01 0.0000000e+00 0.0000000e+00\n",
            " 0.0000000e+00 0.0000000e+00 5.4601432e-38 0.0000000e+00 0.0000000e+00]\n",
            "resultado correcto:\n",
            "[0. 0. 1. 0. 0. 0. 0. 0. 0. 0.]\n"
          ]
        }
      ]
    },
    {
      "cell_type": "code",
      "source": [
        "#Para guardar el modelo en disco\n",
        "model.save(\"red.h5\")"
      ],
      "metadata": {
        "id": "AWXql1k04F7K",
        "colab": {
          "base_uri": "https://localhost:8080/"
        },
        "outputId": "4e75e786-53cf-4445-baf6-6294fc5fc1e1"
      },
      "execution_count": 18,
      "outputs": [
        {
          "output_type": "stream",
          "name": "stderr",
          "text": [
            "/usr/local/lib/python3.10/dist-packages/keras/src/engine/training.py:3000: UserWarning: You are saving your model as an HDF5 file via `model.save()`. This file format is considered legacy. We recommend using instead the native Keras format, e.g. `model.save('my_model.keras')`.\n",
            "  saving_api.save_model(\n"
          ]
        }
      ]
    },
    {
      "cell_type": "code",
      "source": [
        "#para cargar la red:\n",
        "modelo_cargado = tf.keras.models.load_model('red.h5')"
      ],
      "metadata": {
        "id": "CDsy85rb4Cs_"
      },
      "execution_count": 19,
      "outputs": []
    }
  ]
}