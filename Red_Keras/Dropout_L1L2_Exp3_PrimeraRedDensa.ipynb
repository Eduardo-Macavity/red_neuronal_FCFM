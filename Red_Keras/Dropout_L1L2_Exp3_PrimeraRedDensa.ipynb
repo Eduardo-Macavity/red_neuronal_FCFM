{
  "nbformat": 4,
  "nbformat_minor": 0,
  "metadata": {
    "colab": {
      "provenance": []
    },
    "kernelspec": {
      "name": "python3",
      "display_name": "Python 3"
    },
    "language_info": {
      "name": "python"
    }
  },
  "cells": [
    {
      "cell_type": "code",
      "source": [
        "%pip install comet_ml"
      ],
      "metadata": {
        "colab": {
          "base_uri": "https://localhost:8080/"
        },
        "id": "5NchdGs7GKcQ",
        "outputId": "ce11c8c3-b965-4b9b-fe5c-43aa1642103f"
      },
      "execution_count": 4,
      "outputs": [
        {
          "output_type": "stream",
          "name": "stdout",
          "text": [
            "Collecting comet_ml\n",
            "  Downloading comet_ml-3.33.10-py3-none-any.whl (561 kB)\n",
            "\u001b[2K     \u001b[90m━━━━━━━━━━━━━━━━━━━━━━━━━━━━━━━━━━━━━━━\u001b[0m \u001b[32m561.9/561.9 kB\u001b[0m \u001b[31m5.6 MB/s\u001b[0m eta \u001b[36m0:00:00\u001b[0m\n",
            "\u001b[?25hRequirement already satisfied: jsonschema!=3.1.0,>=2.6.0 in /usr/local/lib/python3.10/dist-packages (from comet_ml) (4.19.0)\n",
            "Requirement already satisfied: psutil>=5.6.3 in /usr/local/lib/python3.10/dist-packages (from comet_ml) (5.9.5)\n",
            "Collecting python-box<7.0.0 (from comet_ml)\n",
            "  Downloading python_box-6.1.0-cp310-cp310-manylinux_2_17_x86_64.manylinux2014_x86_64.whl (3.3 MB)\n",
            "\u001b[2K     \u001b[90m━━━━━━━━━━━━━━━━━━━━━━━━━━━━━━━━━━━━━━━━\u001b[0m \u001b[32m3.3/3.3 MB\u001b[0m \u001b[31m13.5 MB/s\u001b[0m eta \u001b[36m0:00:00\u001b[0m\n",
            "\u001b[?25hCollecting requests-toolbelt>=0.8.0 (from comet_ml)\n",
            "  Downloading requests_toolbelt-1.0.0-py2.py3-none-any.whl (54 kB)\n",
            "\u001b[2K     \u001b[90m━━━━━━━━━━━━━━━━━━━━━━━━━━━━━━━━━━━━━━━━\u001b[0m \u001b[32m54.5/54.5 kB\u001b[0m \u001b[31m5.5 MB/s\u001b[0m eta \u001b[36m0:00:00\u001b[0m\n",
            "\u001b[?25hRequirement already satisfied: requests>=2.18.4 in /usr/local/lib/python3.10/dist-packages (from comet_ml) (2.31.0)\n",
            "Collecting semantic-version>=2.8.0 (from comet_ml)\n",
            "  Downloading semantic_version-2.10.0-py2.py3-none-any.whl (15 kB)\n",
            "Collecting sentry-sdk>=1.1.0 (from comet_ml)\n",
            "  Downloading sentry_sdk-1.31.0-py2.py3-none-any.whl (224 kB)\n",
            "\u001b[2K     \u001b[90m━━━━━━━━━━━━━━━━━━━━━━━━━━━━━━━━━━━━━━\u001b[0m \u001b[32m224.8/224.8 kB\u001b[0m \u001b[31m17.1 MB/s\u001b[0m eta \u001b[36m0:00:00\u001b[0m\n",
            "\u001b[?25hCollecting simplejson (from comet_ml)\n",
            "  Downloading simplejson-3.19.1-cp310-cp310-manylinux_2_5_x86_64.manylinux1_x86_64.manylinux_2_17_x86_64.manylinux2014_x86_64.whl (137 kB)\n",
            "\u001b[2K     \u001b[90m━━━━━━━━━━━━━━━━━━━━━━━━━━━━━━━━━━━━━━\u001b[0m \u001b[32m137.9/137.9 kB\u001b[0m \u001b[31m13.0 MB/s\u001b[0m eta \u001b[36m0:00:00\u001b[0m\n",
            "\u001b[?25hRequirement already satisfied: six in /usr/local/lib/python3.10/dist-packages (from comet_ml) (1.16.0)\n",
            "Requirement already satisfied: urllib3>=1.21.1 in /usr/local/lib/python3.10/dist-packages (from comet_ml) (2.0.4)\n",
            "Collecting websocket-client<1.4.0,>=0.55.0 (from comet_ml)\n",
            "  Downloading websocket_client-1.3.3-py3-none-any.whl (54 kB)\n",
            "\u001b[2K     \u001b[90m━━━━━━━━━━━━━━━━━━━━━━━━━━━━━━━━━━━━━━━━\u001b[0m \u001b[32m54.3/54.3 kB\u001b[0m \u001b[31m6.8 MB/s\u001b[0m eta \u001b[36m0:00:00\u001b[0m\n",
            "\u001b[?25hRequirement already satisfied: wrapt>=1.11.2 in /usr/local/lib/python3.10/dist-packages (from comet_ml) (1.15.0)\n",
            "Collecting wurlitzer>=1.0.2 (from comet_ml)\n",
            "  Downloading wurlitzer-3.0.3-py3-none-any.whl (7.3 kB)\n",
            "Collecting everett[ini]<3.2.0,>=1.0.1 (from comet_ml)\n",
            "  Downloading everett-3.1.0-py2.py3-none-any.whl (35 kB)\n",
            "Collecting dulwich!=0.20.33,>=0.20.6 (from comet_ml)\n",
            "  Downloading dulwich-0.21.6-cp310-cp310-manylinux_2_17_x86_64.manylinux2014_x86_64.whl (512 kB)\n",
            "\u001b[2K     \u001b[90m━━━━━━━━━━━━━━━━━━━━━━━━━━━━━━━━━━━━━━\u001b[0m \u001b[32m512.2/512.2 kB\u001b[0m \u001b[31m20.4 MB/s\u001b[0m eta \u001b[36m0:00:00\u001b[0m\n",
            "\u001b[?25hRequirement already satisfied: rich>=13.3.2 in /usr/local/lib/python3.10/dist-packages (from comet_ml) (13.5.2)\n",
            "Collecting configobj (from everett[ini]<3.2.0,>=1.0.1->comet_ml)\n",
            "  Downloading configobj-5.0.8-py2.py3-none-any.whl (36 kB)\n",
            "Requirement already satisfied: attrs>=22.2.0 in /usr/local/lib/python3.10/dist-packages (from jsonschema!=3.1.0,>=2.6.0->comet_ml) (23.1.0)\n",
            "Requirement already satisfied: jsonschema-specifications>=2023.03.6 in /usr/local/lib/python3.10/dist-packages (from jsonschema!=3.1.0,>=2.6.0->comet_ml) (2023.7.1)\n",
            "Requirement already satisfied: referencing>=0.28.4 in /usr/local/lib/python3.10/dist-packages (from jsonschema!=3.1.0,>=2.6.0->comet_ml) (0.30.2)\n",
            "Requirement already satisfied: rpds-py>=0.7.1 in /usr/local/lib/python3.10/dist-packages (from jsonschema!=3.1.0,>=2.6.0->comet_ml) (0.10.2)\n",
            "Requirement already satisfied: charset-normalizer<4,>=2 in /usr/local/lib/python3.10/dist-packages (from requests>=2.18.4->comet_ml) (3.2.0)\n",
            "Requirement already satisfied: idna<4,>=2.5 in /usr/local/lib/python3.10/dist-packages (from requests>=2.18.4->comet_ml) (3.4)\n",
            "Requirement already satisfied: certifi>=2017.4.17 in /usr/local/lib/python3.10/dist-packages (from requests>=2.18.4->comet_ml) (2023.7.22)\n",
            "Requirement already satisfied: markdown-it-py>=2.2.0 in /usr/local/lib/python3.10/dist-packages (from rich>=13.3.2->comet_ml) (3.0.0)\n",
            "Requirement already satisfied: pygments<3.0.0,>=2.13.0 in /usr/local/lib/python3.10/dist-packages (from rich>=13.3.2->comet_ml) (2.16.1)\n",
            "Requirement already satisfied: mdurl~=0.1 in /usr/local/lib/python3.10/dist-packages (from markdown-it-py>=2.2.0->rich>=13.3.2->comet_ml) (0.1.2)\n",
            "Installing collected packages: everett, wurlitzer, websocket-client, simplejson, sentry-sdk, semantic-version, python-box, dulwich, configobj, requests-toolbelt, comet_ml\n",
            "  Attempting uninstall: websocket-client\n",
            "    Found existing installation: websocket-client 1.6.2\n",
            "    Uninstalling websocket-client-1.6.2:\n",
            "      Successfully uninstalled websocket-client-1.6.2\n",
            "  Attempting uninstall: python-box\n",
            "    Found existing installation: python-box 7.1.1\n",
            "    Uninstalling python-box-7.1.1:\n",
            "      Successfully uninstalled python-box-7.1.1\n",
            "Successfully installed comet_ml-3.33.10 configobj-5.0.8 dulwich-0.21.6 everett-3.1.0 python-box-6.1.0 requests-toolbelt-1.0.0 semantic-version-2.10.0 sentry-sdk-1.31.0 simplejson-3.19.1 websocket-client-1.3.3 wurlitzer-3.0.3\n"
          ]
        }
      ]
    },
    {
      "cell_type": "code",
      "source": [
        "import comet_ml\n",
        "comet_ml.init(project_name=\"Prueba comet\")"
      ],
      "metadata": {
        "id": "4PRqc_1mHOZQ",
        "colab": {
          "base_uri": "https://localhost:8080/"
        },
        "outputId": "dbc0b34f-7fb0-4d7f-9da2-55d451ca1bd4"
      },
      "execution_count": 5,
      "outputs": [
        {
          "name": "stdout",
          "output_type": "stream",
          "text": [
            "Please paste your Comet API key from https://www.comet.com/api/my/settings/\n",
            "(api key may not show as you type)\n",
            "Comet API key: ··········\n"
          ]
        },
        {
          "output_type": "stream",
          "name": "stderr",
          "text": [
            "\u001b[1;38;5;39mCOMET INFO:\u001b[0m Valid Comet API Key saved in /root/.comet.config (set COMET_CONFIG to change where it is saved).\n"
          ]
        }
      ]
    },
    {
      "cell_type": "code",
      "execution_count": 6,
      "metadata": {
        "id": "GJ_8iPWWN8fn"
      },
      "outputs": [],
      "source": [
        "import tensorflow as tf\n",
        "from tensorflow import keras\n",
        "#from tensorflow.keras.datasets import mnist\n",
        "from tensorflow.keras.models import Sequential\n",
        "from tensorflow.keras.layers import Dense, Dropout, Activation\n",
        "from tensorflow.keras.optimizers import RMSprop, SGD\n",
        "from tensorflow.keras import regularizers\n",
        "from keras.callbacks import ModelCheckpoint\n",
        "import gzip\n",
        "import pickle\n",
        "import numpy as np"
      ]
    },
    {
      "cell_type": "code",
      "source": [
        "experiment = comet_ml.Experiment(\n",
        "    auto_histogram_weight_logging=True,\n",
        "    auto_histogram_gradient_logging=True,\n",
        "    auto_histogram_activation_logging=True,\n",
        "    log_code=True,\n",
        ")"
      ],
      "metadata": {
        "colab": {
          "base_uri": "https://localhost:8080/"
        },
        "id": "puk6zaaEi4gk",
        "outputId": "d8d1b343-641e-4dfd-e969-015201f8e484"
      },
      "execution_count": 7,
      "outputs": [
        {
          "output_type": "stream",
          "name": "stderr",
          "text": [
            "\u001b[1;38;5;214mCOMET WARNING:\u001b[0m To get all data logged automatically, import comet_ml before the following modules: keras, tensorflow, tensorboard.\n",
            "\u001b[1;38;5;214mCOMET WARNING:\u001b[0m As you are running in a Jupyter environment, you will need to call `experiment.end()` when finished to ensure all metrics and code are logged before exiting.\n",
            "\u001b[1;38;5;39mCOMET INFO:\u001b[0m Couldn't find a Git repository in '/content' nor in any parent directory. Set `COMET_GIT_DIRECTORY` if your Git Repository is elsewhere.\n",
            "\u001b[1;38;5;39mCOMET INFO:\u001b[0m Experiment is live on comet.com https://www.comet.com/eduardo-macavity/prueba-comet/9e7fd987be67436e9d81a26c64e4707c\n",
            "\n"
          ]
        }
      ]
    },
    {
      "cell_type": "code",
      "source": [
        "modelo_cargado = tf.keras.models.load_model('best_model.hdf5')"
      ],
      "metadata": {
        "id": "WWBfCmxKVw6u"
      },
      "execution_count": 9,
      "outputs": []
    },
    {
      "cell_type": "code",
      "source": [
        "#Cargamos los datos\n",
        "f = gzip.open('mnist.pkl.gz', 'rb')\n",
        "dataset = pickle.load(f,encoding=\"latin1\")"
      ],
      "metadata": {
        "id": "1Uoylgt-guZF"
      },
      "execution_count": 10,
      "outputs": []
    },
    {
      "cell_type": "code",
      "source": [
        "\n",
        "\n",
        "dat=np.array(dataset)\n",
        "print(dat[1,1].shape)\n",
        "(x_train, y_train), (x_val, y_val), (x_test, y_test) = dataset\n",
        "\n"
      ],
      "metadata": {
        "id": "kqcrNtEqgxxp",
        "colab": {
          "base_uri": "https://localhost:8080/"
        },
        "outputId": "2c5e6543-bf8e-4a36-a497-714cef08ef13"
      },
      "execution_count": 11,
      "outputs": [
        {
          "output_type": "stream",
          "name": "stdout",
          "text": [
            "(10000,)\n"
          ]
        },
        {
          "output_type": "stream",
          "name": "stderr",
          "text": [
            "<ipython-input-11-57f718d27ce6>:1: VisibleDeprecationWarning: Creating an ndarray from ragged nested sequences (which is a list-or-tuple of lists-or-tuples-or ndarrays with different lengths or shapes) is deprecated. If you meant to do this, you must specify 'dtype=object' when creating the ndarray.\n",
            "  dat=np.array(dataset)\n"
          ]
        }
      ]
    },
    {
      "cell_type": "code",
      "source": [
        "\n",
        "\n",
        "x_train = x_train.astype('float32')\n",
        "x_test = x_test.astype('float32')\n",
        "\n"
      ],
      "metadata": {
        "id": "WNhxlXk3g0fa"
      },
      "execution_count": 12,
      "outputs": []
    },
    {
      "cell_type": "code",
      "source": [
        "\n",
        "num_classes=10\n",
        "y_trainc = keras.utils.to_categorical(y_train, num_classes)\n",
        "y_testc = keras.utils.to_categorical(y_test, num_classes)"
      ],
      "metadata": {
        "id": "Lf9qmP92g44b"
      },
      "execution_count": 13,
      "outputs": []
    },
    {
      "cell_type": "code",
      "source": [
        "\n",
        "\n",
        "parameters = {\n",
        "    \"batch_size\": 128,\n",
        "    \"epochs\": 30,\n",
        "    \"optimizer\": \"adam\",\n",
        "    \"loss\": \"binary_crossentropy\",\n",
        "}\n",
        "\n",
        "experiment.log_parameters(parameters)"
      ],
      "metadata": {
        "id": "tjaj1K1pIt47"
      },
      "execution_count": 14,
      "outputs": []
    },
    {
      "cell_type": "code",
      "source": [
        "model = Sequential(modelo_cargado)\n",
        "model.add(Dense(512, activation='sigmoid', input_shape=(784,)))\n",
        "model.add(Dense(600,activation='tanh'))\n",
        "model.add(Dense(200,activation='selu'))\n",
        "model.add(Dense(600,activation='relu'))\n",
        "model.add(Dropout(0.5)) #Fraccion de enlaces a eliminar\n",
        "model.add(Dense(100,activation='elu'))\n",
        "model.add(Dense(600, activation='sigmoid', kernel_regularizer=regularizers.L1L2(l1=1e-5, l2=1e-4))) #Regularizacion L1L2\n",
        "model.add(Dense(500,activation='exponential'))\n",
        "model.add(Dense(num_classes, activation='sigmoid'))\n",
        "\n",
        "model.summary()"
      ],
      "metadata": {
        "id": "6bd_72sQjpgz",
        "colab": {
          "base_uri": "https://localhost:8080/"
        },
        "outputId": "09e2ef3e-8433-4933-b7ee-ae5860034fe8"
      },
      "execution_count": 15,
      "outputs": [
        {
          "output_type": "stream",
          "name": "stdout",
          "text": [
            "Model: \"sequential\"\n",
            "_________________________________________________________________\n",
            " Layer (type)                Output Shape              Param #   \n",
            "=================================================================\n",
            " sequential_2 (Sequential)   (None, 10)                1376730   \n",
            "                                                                 \n",
            " dense (Dense)               (None, 512)               5632      \n",
            "                                                                 \n",
            " dense_1 (Dense)             (None, 600)               307800    \n",
            "                                                                 \n",
            " dense_2 (Dense)             (None, 200)               120200    \n",
            "                                                                 \n",
            " dense_3 (Dense)             (None, 600)               120600    \n",
            "                                                                 \n",
            " dropout (Dropout)           (None, 600)               0         \n",
            "                                                                 \n",
            " dense_4 (Dense)             (None, 100)               60100     \n",
            "                                                                 \n",
            " dense_5 (Dense)             (None, 600)               60600     \n",
            "                                                                 \n",
            " dense_6 (Dense)             (None, 500)               300500    \n",
            "                                                                 \n",
            " dense_7 (Dense)             (None, 10)                5010      \n",
            "                                                                 \n",
            "=================================================================\n",
            "Total params: 2357172 (8.99 MB)\n",
            "Trainable params: 2357172 (8.99 MB)\n",
            "Non-trainable params: 0 (0.00 Byte)\n",
            "_________________________________________________________________\n"
          ]
        }
      ]
    },
    {
      "cell_type": "code",
      "source": [
        "model.compile(loss=parameters['loss'],optimizer=parameters['optimizer'],metrics=['accuracy'])\n"
      ],
      "metadata": {
        "id": "Ei5HKOGajtVL"
      },
      "execution_count": 16,
      "outputs": []
    },
    {
      "cell_type": "code",
      "source": [
        "model.fit(x_train, y_trainc,\n",
        "                    batch_size=parameters['batch_size'],\n",
        "                    epochs=parameters[\"epochs\"],\n",
        "                    verbose=1,\n",
        "                    validation_data=(x_test, y_testc),\n",
        "                    )"
      ],
      "metadata": {
        "id": "2_k28zDtXJMb",
        "colab": {
          "base_uri": "https://localhost:8080/"
        },
        "outputId": "73b012cb-6c16-4394-9a20-7f6153ac5e2e"
      },
      "execution_count": 17,
      "outputs": [
        {
          "output_type": "stream",
          "name": "stdout",
          "text": [
            "Epoch 1/30\n",
            "391/391 [==============================] - 33s 78ms/step - loss: 0.2941 - accuracy: 0.3233 - val_loss: 0.2642 - val_accuracy: 0.4797\n",
            "Epoch 2/30\n",
            "391/391 [==============================] - 27s 69ms/step - loss: 0.2625 - accuracy: 0.3294 - val_loss: 0.2901 - val_accuracy: 0.1931\n",
            "Epoch 3/30\n",
            "391/391 [==============================] - 27s 69ms/step - loss: 0.2961 - accuracy: 0.1862 - val_loss: 0.2769 - val_accuracy: 0.2680\n",
            "Epoch 4/30\n",
            "391/391 [==============================] - 27s 69ms/step - loss: 0.2479 - accuracy: 0.3291 - val_loss: 0.2329 - val_accuracy: 0.3707\n",
            "Epoch 5/30\n",
            "391/391 [==============================] - 31s 80ms/step - loss: 0.2778 - accuracy: 0.2526 - val_loss: 0.3046 - val_accuracy: 0.1724\n",
            "Epoch 6/30\n",
            "391/391 [==============================] - 27s 69ms/step - loss: 0.3018 - accuracy: 0.1808 - val_loss: 0.2928 - val_accuracy: 0.2103\n",
            "Epoch 7/30\n",
            "391/391 [==============================] - 27s 70ms/step - loss: 0.2917 - accuracy: 0.1912 - val_loss: 0.2962 - val_accuracy: 0.1855\n",
            "Epoch 8/30\n",
            "391/391 [==============================] - 29s 75ms/step - loss: 0.2959 - accuracy: 0.1925 - val_loss: 0.2948 - val_accuracy: 0.2000\n",
            "Epoch 9/30\n",
            "391/391 [==============================] - 27s 69ms/step - loss: 0.2849 - accuracy: 0.2287 - val_loss: 0.2802 - val_accuracy: 0.2993\n",
            "Epoch 10/30\n",
            "391/391 [==============================] - 27s 69ms/step - loss: 0.2890 - accuracy: 0.2059 - val_loss: 0.2809 - val_accuracy: 0.2035\n",
            "Epoch 11/30\n",
            "391/391 [==============================] - 28s 73ms/step - loss: 0.2848 - accuracy: 0.2045 - val_loss: 0.2865 - val_accuracy: 0.2048\n",
            "Epoch 12/30\n",
            "391/391 [==============================] - 27s 69ms/step - loss: 0.3025 - accuracy: 0.1744 - val_loss: 0.3253 - val_accuracy: 0.1132\n",
            "Epoch 13/30\n",
            "391/391 [==============================] - 28s 72ms/step - loss: 0.3241 - accuracy: 0.1194 - val_loss: 0.3236 - val_accuracy: 0.1133\n",
            "Epoch 14/30\n",
            "391/391 [==============================] - 27s 69ms/step - loss: 0.3232 - accuracy: 0.1204 - val_loss: 0.3232 - val_accuracy: 0.1240\n",
            "Epoch 15/30\n",
            "391/391 [==============================] - 30s 76ms/step - loss: 0.3230 - accuracy: 0.1210 - val_loss: 0.3229 - val_accuracy: 0.1240\n",
            "Epoch 16/30\n",
            "391/391 [==============================] - 27s 69ms/step - loss: 0.3229 - accuracy: 0.1188 - val_loss: 0.3229 - val_accuracy: 0.1240\n",
            "Epoch 17/30\n",
            "391/391 [==============================] - 27s 70ms/step - loss: 0.3228 - accuracy: 0.1203 - val_loss: 0.3231 - val_accuracy: 0.1100\n",
            "Epoch 18/30\n",
            "391/391 [==============================] - 27s 68ms/step - loss: 0.3228 - accuracy: 0.1205 - val_loss: 0.3227 - val_accuracy: 0.1240\n",
            "Epoch 19/30\n",
            "391/391 [==============================] - 28s 70ms/step - loss: 0.3228 - accuracy: 0.1199 - val_loss: 0.3230 - val_accuracy: 0.1137\n",
            "Epoch 20/30\n",
            "391/391 [==============================] - 26s 67ms/step - loss: 0.3229 - accuracy: 0.1222 - val_loss: 0.3232 - val_accuracy: 0.1240\n",
            "Epoch 21/30\n",
            "391/391 [==============================] - 26s 67ms/step - loss: 0.3228 - accuracy: 0.1218 - val_loss: 0.3228 - val_accuracy: 0.1240\n",
            "Epoch 22/30\n",
            "391/391 [==============================] - 29s 74ms/step - loss: 0.3228 - accuracy: 0.1211 - val_loss: 0.3228 - val_accuracy: 0.1240\n",
            "Epoch 23/30\n",
            "391/391 [==============================] - 26s 68ms/step - loss: 0.3241 - accuracy: 0.1191 - val_loss: 0.3262 - val_accuracy: 0.1135\n",
            "Epoch 24/30\n",
            "391/391 [==============================] - 27s 68ms/step - loss: 0.3256 - accuracy: 0.1109 - val_loss: 0.3255 - val_accuracy: 0.1135\n",
            "Epoch 25/30\n",
            "391/391 [==============================] - 27s 69ms/step - loss: 0.3254 - accuracy: 0.1119 - val_loss: 0.3253 - val_accuracy: 0.1135\n",
            "Epoch 26/30\n",
            "391/391 [==============================] - 27s 68ms/step - loss: 0.3254 - accuracy: 0.1108 - val_loss: 0.3252 - val_accuracy: 0.1135\n",
            "Epoch 27/30\n",
            "391/391 [==============================] - 27s 68ms/step - loss: 0.3253 - accuracy: 0.1115 - val_loss: 0.3253 - val_accuracy: 0.1010\n",
            "Epoch 28/30\n",
            "391/391 [==============================] - 27s 68ms/step - loss: 0.3253 - accuracy: 0.1108 - val_loss: 0.3252 - val_accuracy: 0.1135\n",
            "Epoch 29/30\n",
            "391/391 [==============================] - 30s 76ms/step - loss: 0.3253 - accuracy: 0.1128 - val_loss: 0.3251 - val_accuracy: 0.1135\n",
            "Epoch 30/30\n",
            "391/391 [==============================] - 28s 73ms/step - loss: 0.3252 - accuracy: 0.1116 - val_loss: 0.3252 - val_accuracy: 0.1010\n"
          ]
        },
        {
          "output_type": "execute_result",
          "data": {
            "text/plain": [
              "<keras.src.callbacks.History at 0x7ae5b07938b0>"
            ]
          },
          "metadata": {},
          "execution_count": 17
        }
      ]
    },
    {
      "cell_type": "code",
      "source": [
        "score = model.evaluate(x_test, y_testc, verbose=1) #evaluar la eficiencia del modelo\n",
        "print(score)\n",
        "a=model.predict(x_test) #predicción de la red entrenada\n",
        "print(a.shape)\n",
        "print(a[1])\n",
        "print(\"resultado correcto:\")\n",
        "print(y_testc[1])\n"
      ],
      "metadata": {
        "id": "EwFrc-kT3c4k",
        "colab": {
          "base_uri": "https://localhost:8080/"
        },
        "outputId": "06ae03e0-239a-4dc3-a279-39b672c2cbba"
      },
      "execution_count": 23,
      "outputs": [
        {
          "output_type": "stream",
          "name": "stdout",
          "text": [
            "313/313 [==============================] - 4s 12ms/step - loss: 0.3252 - accuracy: 0.1010\n",
            "[0.3251815736293793, 0.10100000351667404]\n",
            "313/313 [==============================] - 3s 8ms/step\n",
            "(10000, 10)\n",
            "[0.09097644 0.11060568 0.10239404 0.11190856 0.0993561  0.09060562\n",
            " 0.09981892 0.10577936 0.09582642 0.09937967]\n",
            "resultado correcto:\n",
            "[0. 0. 1. 0. 0. 0. 0. 0. 0. 0.]\n"
          ]
        }
      ]
    },
    {
      "cell_type": "code",
      "source": [
        "experiment.log_model(\"MNIST1\", \"best_model.hdf5\")"
      ],
      "metadata": {
        "id": "k6EVsTlhJ244"
      },
      "execution_count": 24,
      "outputs": []
    },
    {
      "cell_type": "code",
      "source": [
        "experiment.end()"
      ],
      "metadata": {
        "id": "gMWCNXM_J5Lb"
      },
      "execution_count": 25,
      "outputs": []
    },
    {
      "cell_type": "code",
      "source": [
        "#Para guardar el modelo en disco\n",
        "#model.save(\"red.h5\")"
      ],
      "metadata": {
        "id": "AWXql1k04F7K"
      },
      "execution_count": 21,
      "outputs": []
    },
    {
      "cell_type": "code",
      "source": [
        "#para cargar la red:\n",
        "#modelo_cargado = tf.keras.models.load_model('red.h5')"
      ],
      "metadata": {
        "id": "CDsy85rb4Cs_"
      },
      "execution_count": 22,
      "outputs": []
    }
  ]
}