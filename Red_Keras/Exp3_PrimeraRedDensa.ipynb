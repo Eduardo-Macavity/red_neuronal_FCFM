{
  "nbformat": 4,
  "nbformat_minor": 0,
  "metadata": {
    "colab": {
      "provenance": [],
      "toc_visible": true
    },
    "kernelspec": {
      "name": "python3",
      "display_name": "Python 3"
    },
    "language_info": {
      "name": "python"
    }
  },
  "cells": [
    {
      "cell_type": "code",
      "execution_count": 1,
      "metadata": {
        "id": "GJ_8iPWWN8fn"
      },
      "outputs": [],
      "source": [
        "import tensorflow as tf\n",
        "from tensorflow import keras\n",
        "#from tensorflow.keras.datasets import mnist\n",
        "from tensorflow.keras.models import Sequential\n",
        "from tensorflow.keras.layers import Dense, Dropout, Activation\n",
        "from tensorflow.keras.optimizers import RMSprop, SGD\n",
        "from tensorflow.keras import regularizers\n",
        "import gzip\n",
        "import pickle\n",
        "import numpy as np"
      ]
    },
    {
      "cell_type": "code",
      "source": [
        "learning_rate = 0.001\n",
        "epochs = 30\n",
        "batch_size = 120"
      ],
      "metadata": {
        "id": "_5WnkpI7OSmv"
      },
      "execution_count": 2,
      "outputs": []
    },
    {
      "cell_type": "code",
      "source": [
        "#Cargamos los datos\n",
        "f = gzip.open('mnist.pkl.gz', 'rb')\n",
        "dataset = pickle.load(f,encoding=\"latin1\")"
      ],
      "metadata": {
        "id": "xAGhEsx-P_MP"
      },
      "execution_count": 5,
      "outputs": []
    },
    {
      "cell_type": "code",
      "source": [
        "dat=np.array(dataset)\n",
        "print(dat[1,1].shape)\n",
        "(x_train, y_train), (x_val, y_val), (x_test, y_test) = dataset"
      ],
      "metadata": {
        "colab": {
          "base_uri": "https://localhost:8080/"
        },
        "id": "kUgQhC-yQmoA",
        "outputId": "0f591a47-a91c-47f7-c93e-9ffd20a5fcb1"
      },
      "execution_count": 7,
      "outputs": [
        {
          "output_type": "stream",
          "name": "stdout",
          "text": [
            "(10000,)\n"
          ]
        },
        {
          "output_type": "stream",
          "name": "stderr",
          "text": [
            "<ipython-input-7-9d04016ce3ca>:1: VisibleDeprecationWarning: Creating an ndarray from ragged nested sequences (which is a list-or-tuple of lists-or-tuples-or ndarrays with different lengths or shapes) is deprecated. If you meant to do this, you must specify 'dtype=object' when creating the ndarray.\n",
            "  dat=np.array(dataset)\n"
          ]
        }
      ]
    },
    {
      "cell_type": "code",
      "source": [
        "x_train.shape"
      ],
      "metadata": {
        "colab": {
          "base_uri": "https://localhost:8080/"
        },
        "id": "TwN7VEN_T0sr",
        "outputId": "a5a98a9b-2e33-4ede-f402-3afc72f0faf3"
      },
      "execution_count": 8,
      "outputs": [
        {
          "output_type": "execute_result",
          "data": {
            "text/plain": [
              "(50000, 784)"
            ]
          },
          "metadata": {},
          "execution_count": 8
        }
      ]
    },
    {
      "cell_type": "code",
      "source": [
        "x_train = x_train.astype('float32')\n",
        "x_test = x_test.astype('float32')"
      ],
      "metadata": {
        "id": "xSwgxQ0kTwWT"
      },
      "execution_count": 9,
      "outputs": []
    },
    {
      "cell_type": "code",
      "source": [
        "print(y_train[10000])"
      ],
      "metadata": {
        "colab": {
          "base_uri": "https://localhost:8080/"
        },
        "id": "-8EYclMGUpFT",
        "outputId": "f346ebb9-74d9-44c7-8f27-3dec4ef1b0fe"
      },
      "execution_count": 10,
      "outputs": [
        {
          "output_type": "stream",
          "name": "stdout",
          "text": [
            "3\n"
          ]
        }
      ]
    },
    {
      "cell_type": "code",
      "source": [
        "num_classes=10\n",
        "y_trainc = keras.utils.to_categorical(y_train, num_classes)\n",
        "y_testc = keras.utils.to_categorical(y_test, num_classes)"
      ],
      "metadata": {
        "id": "R-amYxZGUndc"
      },
      "execution_count": 11,
      "outputs": []
    },
    {
      "cell_type": "code",
      "source": [
        "y_trainc[10000]"
      ],
      "metadata": {
        "colab": {
          "base_uri": "https://localhost:8080/"
        },
        "id": "nxsmUUgaVELP",
        "outputId": "cf1bb535-0e39-4617-db51-ed5157dc28f5"
      },
      "execution_count": 12,
      "outputs": [
        {
          "output_type": "execute_result",
          "data": {
            "text/plain": [
              "array([0., 0., 0., 1., 0., 0., 0., 0., 0., 0.], dtype=float32)"
            ]
          },
          "metadata": {},
          "execution_count": 12
        }
      ]
    },
    {
      "cell_type": "code",
      "source": [
        "model = Sequential()\n",
        "model.add(Dense(512, activation='sigmoid', input_shape=(784,)))\n",
        "model.add(Dense(600,activation='tanh'))\n",
        "model.add(Dense(200,activation='selu'))\n",
        "model.add(Dense(600,activation='relu'))\n",
        "model.add(Dense(100,activation='elu'))\n",
        "model.add(Dense(600,activation='sigmoid'))\n",
        "model.add(Dense(500,activation='exponential'))\n",
        "model.add(Dense(num_classes, activation='sigmoid'))\n",
        "\n",
        "model.summary()"
      ],
      "metadata": {
        "colab": {
          "base_uri": "https://localhost:8080/"
        },
        "id": "6bd_72sQjpgz",
        "outputId": "de6718f2-9cc4-4b87-fbf2-62bc612a2a33"
      },
      "execution_count": 14,
      "outputs": [
        {
          "output_type": "stream",
          "name": "stdout",
          "text": [
            "Model: \"sequential_1\"\n",
            "_________________________________________________________________\n",
            " Layer (type)                Output Shape              Param #   \n",
            "=================================================================\n",
            " dense_1 (Dense)             (None, 512)               401920    \n",
            "                                                                 \n",
            " dense_2 (Dense)             (None, 600)               307800    \n",
            "                                                                 \n",
            " dense_3 (Dense)             (None, 200)               120200    \n",
            "                                                                 \n",
            " dense_4 (Dense)             (None, 600)               120600    \n",
            "                                                                 \n",
            " dense_5 (Dense)             (None, 100)               60100     \n",
            "                                                                 \n",
            " dense_6 (Dense)             (None, 600)               60600     \n",
            "                                                                 \n",
            " dense_7 (Dense)             (None, 500)               300500    \n",
            "                                                                 \n",
            " dense_8 (Dense)             (None, 10)                5010      \n",
            "                                                                 \n",
            "=================================================================\n",
            "Total params: 1376730 (5.25 MB)\n",
            "Trainable params: 1376730 (5.25 MB)\n",
            "Non-trainable params: 0 (0.00 Byte)\n",
            "_________________________________________________________________\n"
          ]
        }
      ]
    },
    {
      "cell_type": "code",
      "source": [
        "model.compile(loss='binary_crossentropy',optimizer='adam',metrics=['accuracy'])"
      ],
      "metadata": {
        "id": "Ei5HKOGajtVL"
      },
      "execution_count": 15,
      "outputs": []
    },
    {
      "cell_type": "code",
      "source": [
        "history = model.fit(x_train, y_trainc,\n",
        "                    batch_size=batch_size,\n",
        "                    epochs=epochs,\n",
        "                    verbose=1,\n",
        "                    validation_data=(x_test, y_testc)\n",
        "                    )"
      ],
      "metadata": {
        "id": "2_k28zDtXJMb",
        "colab": {
          "base_uri": "https://localhost:8080/"
        },
        "outputId": "1598040b-727e-4d29-83ab-6b1dd79e1888"
      },
      "execution_count": 16,
      "outputs": [
        {
          "output_type": "stream",
          "name": "stdout",
          "text": [
            "Epoch 1/30\n",
            "417/417 [==============================] - 18s 39ms/step - loss: 0.1916 - accuracy: 0.5451 - val_loss: 0.0648 - val_accuracy: 0.8814\n",
            "Epoch 2/30\n",
            "417/417 [==============================] - 16s 38ms/step - loss: 0.0522 - accuracy: 0.9089 - val_loss: 0.0442 - val_accuracy: 0.9260\n",
            "Epoch 3/30\n",
            "417/417 [==============================] - 18s 42ms/step - loss: 0.0338 - accuracy: 0.9422 - val_loss: 0.0335 - val_accuracy: 0.9435\n",
            "Epoch 4/30\n",
            "417/417 [==============================] - 16s 38ms/step - loss: 0.0255 - accuracy: 0.9569 - val_loss: 0.0272 - val_accuracy: 0.9535\n",
            "Epoch 5/30\n",
            "417/417 [==============================] - 16s 38ms/step - loss: 0.0201 - accuracy: 0.9656 - val_loss: 0.0238 - val_accuracy: 0.9589\n",
            "Epoch 6/30\n",
            "417/417 [==============================] - 15s 36ms/step - loss: 0.0171 - accuracy: 0.9718 - val_loss: 0.0194 - val_accuracy: 0.9680\n",
            "Epoch 7/30\n",
            "417/417 [==============================] - 15s 36ms/step - loss: 0.0144 - accuracy: 0.9753 - val_loss: 0.0185 - val_accuracy: 0.9709\n",
            "Epoch 8/30\n",
            "417/417 [==============================] - 16s 38ms/step - loss: 0.0126 - accuracy: 0.9788 - val_loss: 0.0178 - val_accuracy: 0.9724\n",
            "Epoch 9/30\n",
            "417/417 [==============================] - 16s 39ms/step - loss: 0.0106 - accuracy: 0.9824 - val_loss: 0.0188 - val_accuracy: 0.9729\n",
            "Epoch 10/30\n",
            "417/417 [==============================] - 15s 36ms/step - loss: 0.0089 - accuracy: 0.9851 - val_loss: 0.0196 - val_accuracy: 0.9708\n",
            "Epoch 11/30\n",
            "417/417 [==============================] - 15s 37ms/step - loss: 0.0084 - accuracy: 0.9866 - val_loss: 0.0178 - val_accuracy: 0.9734\n",
            "Epoch 12/30\n",
            "417/417 [==============================] - 16s 38ms/step - loss: 0.0074 - accuracy: 0.9882 - val_loss: 0.0184 - val_accuracy: 0.9746\n",
            "Epoch 13/30\n",
            "417/417 [==============================] - 15s 37ms/step - loss: 0.0066 - accuracy: 0.9895 - val_loss: 0.0188 - val_accuracy: 0.9768\n",
            "Epoch 14/30\n",
            "417/417 [==============================] - 16s 39ms/step - loss: 0.0067 - accuracy: 0.9898 - val_loss: 0.0247 - val_accuracy: 0.9724\n",
            "Epoch 15/30\n",
            "417/417 [==============================] - 16s 38ms/step - loss: 0.0062 - accuracy: 0.9908 - val_loss: 0.0186 - val_accuracy: 0.9785\n",
            "Epoch 16/30\n",
            "417/417 [==============================] - 15s 36ms/step - loss: 0.0049 - accuracy: 0.9923 - val_loss: 0.0229 - val_accuracy: 0.9725\n",
            "Epoch 17/30\n",
            "417/417 [==============================] - 15s 37ms/step - loss: 0.0047 - accuracy: 0.9927 - val_loss: 0.0214 - val_accuracy: 0.9766\n",
            "Epoch 18/30\n",
            "417/417 [==============================] - 16s 38ms/step - loss: 0.0049 - accuracy: 0.9929 - val_loss: 0.0230 - val_accuracy: 0.9719\n",
            "Epoch 19/30\n",
            "417/417 [==============================] - 16s 39ms/step - loss: 0.0041 - accuracy: 0.9936 - val_loss: 0.0178 - val_accuracy: 0.9789\n",
            "Epoch 20/30\n",
            "417/417 [==============================] - 16s 38ms/step - loss: 0.0036 - accuracy: 0.9946 - val_loss: 0.0239 - val_accuracy: 0.9773\n",
            "Epoch 21/30\n",
            "417/417 [==============================] - 16s 38ms/step - loss: 0.0041 - accuracy: 0.9938 - val_loss: 0.0204 - val_accuracy: 0.9730\n",
            "Epoch 22/30\n",
            "417/417 [==============================] - 15s 37ms/step - loss: 0.0044 - accuracy: 0.9943 - val_loss: 0.0321 - val_accuracy: 0.9655\n",
            "Epoch 23/30\n",
            "417/417 [==============================] - 15s 37ms/step - loss: 0.0045 - accuracy: 0.9933 - val_loss: 0.0214 - val_accuracy: 0.9789\n",
            "Epoch 24/30\n",
            "417/417 [==============================] - 17s 41ms/step - loss: 0.0035 - accuracy: 0.9949 - val_loss: 0.0223 - val_accuracy: 0.9737\n",
            "Epoch 25/30\n",
            "417/417 [==============================] - 16s 38ms/step - loss: 0.0037 - accuracy: 0.9944 - val_loss: 0.0221 - val_accuracy: 0.9801\n",
            "Epoch 26/30\n",
            "417/417 [==============================] - 15s 37ms/step - loss: 0.0028 - accuracy: 0.9959 - val_loss: 0.0229 - val_accuracy: 0.9802\n",
            "Epoch 27/30\n",
            "417/417 [==============================] - 16s 37ms/step - loss: 0.0026 - accuracy: 0.9963 - val_loss: 0.0261 - val_accuracy: 0.9810\n",
            "Epoch 28/30\n",
            "417/417 [==============================] - 16s 37ms/step - loss: 0.0017 - accuracy: 0.9974 - val_loss: 0.0304 - val_accuracy: 0.9773\n",
            "Epoch 29/30\n",
            "417/417 [==============================] - 17s 40ms/step - loss: 0.0034 - accuracy: 0.9952 - val_loss: 0.0237 - val_accuracy: 0.9776\n",
            "Epoch 30/30\n",
            "417/417 [==============================] - 16s 38ms/step - loss: 0.0027 - accuracy: 0.9962 - val_loss: 0.0225 - val_accuracy: 0.9796\n"
          ]
        }
      ]
    },
    {
      "cell_type": "code",
      "source": [
        "score = model.evaluate(x_test, y_testc, verbose=1) #evaluar la eficiencia del modelo\n",
        "print(score)\n",
        "a=model.predict(x_test) #predicción de la red entrenada\n",
        "print(a.shape)\n",
        "print(a[1])\n",
        "print(\"resultado correcto:\")\n",
        "print(y_testc[1])\n"
      ],
      "metadata": {
        "id": "EwFrc-kT3c4k",
        "colab": {
          "base_uri": "https://localhost:8080/"
        },
        "outputId": "b38bd94c-8987-4937-9f3e-7390b428d154"
      },
      "execution_count": 17,
      "outputs": [
        {
          "output_type": "stream",
          "name": "stdout",
          "text": [
            "313/313 [==============================] - 2s 6ms/step - loss: 0.0225 - accuracy: 0.9796\n",
            "[0.022458765655755997, 0.9796000123023987]\n",
            "313/313 [==============================] - 3s 9ms/step\n",
            "(10000, 10)\n",
            "[2.2929068e-08 1.6679097e-07 9.9998760e-01 3.1038976e-06 1.5056989e-07\n",
            " 2.9612657e-08 2.6435477e-05 7.3300663e-09 1.4211818e-10 5.1978469e-12]\n",
            "resultado correcto:\n",
            "[0. 0. 1. 0. 0. 0. 0. 0. 0. 0.]\n"
          ]
        }
      ]
    },
    {
      "cell_type": "code",
      "source": [
        "#Para guardar el modelo en disco\n",
        "model.save(\"red.h5\")"
      ],
      "metadata": {
        "id": "AWXql1k04F7K",
        "colab": {
          "base_uri": "https://localhost:8080/"
        },
        "outputId": "82a20228-4cf4-4a6d-9056-2ae5e0374340"
      },
      "execution_count": 18,
      "outputs": [
        {
          "output_type": "stream",
          "name": "stderr",
          "text": [
            "/usr/local/lib/python3.10/dist-packages/keras/src/engine/training.py:3000: UserWarning: You are saving your model as an HDF5 file via `model.save()`. This file format is considered legacy. We recommend using instead the native Keras format, e.g. `model.save('my_model.keras')`.\n",
            "  saving_api.save_model(\n"
          ]
        }
      ]
    },
    {
      "cell_type": "code",
      "source": [
        "#para cargar la red:\n",
        "modelo_cargado = tf.keras.models.load_model('red.h5')"
      ],
      "metadata": {
        "id": "CDsy85rb4Cs_"
      },
      "execution_count": 19,
      "outputs": []
    }
  ]
}