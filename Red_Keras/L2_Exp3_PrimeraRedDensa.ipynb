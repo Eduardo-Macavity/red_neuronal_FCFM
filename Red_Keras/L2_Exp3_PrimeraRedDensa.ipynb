{
  "nbformat": 4,
  "nbformat_minor": 0,
  "metadata": {
    "colab": {
      "provenance": []
    },
    "kernelspec": {
      "name": "python3",
      "display_name": "Python 3"
    },
    "language_info": {
      "name": "python"
    }
  },
  "cells": [
    {
      "cell_type": "code",
      "source": [
        "%pip install comet_ml"
      ],
      "metadata": {
        "colab": {
          "base_uri": "https://localhost:8080/"
        },
        "id": "5NchdGs7GKcQ",
        "outputId": "ba780605-8b79-44bb-9b95-5d95f8877f98"
      },
      "execution_count": null,
      "outputs": [
        {
          "output_type": "stream",
          "name": "stdout",
          "text": [
            "Collecting comet_ml\n",
            "  Downloading comet_ml-3.33.10-py3-none-any.whl (561 kB)\n",
            "\u001b[2K     \u001b[90m━━━━━━━━━━━━━━━━━━━━━━━━━━━━━━━━━━━━━━━\u001b[0m \u001b[32m561.9/561.9 kB\u001b[0m \u001b[31m4.7 MB/s\u001b[0m eta \u001b[36m0:00:00\u001b[0m\n",
            "\u001b[?25hRequirement already satisfied: jsonschema!=3.1.0,>=2.6.0 in /usr/local/lib/python3.10/dist-packages (from comet_ml) (4.19.0)\n",
            "Requirement already satisfied: psutil>=5.6.3 in /usr/local/lib/python3.10/dist-packages (from comet_ml) (5.9.5)\n",
            "Collecting python-box<7.0.0 (from comet_ml)\n",
            "  Downloading python_box-6.1.0-cp310-cp310-manylinux_2_17_x86_64.manylinux2014_x86_64.whl (3.3 MB)\n",
            "\u001b[2K     \u001b[90m━━━━━━━━━━━━━━━━━━━━━━━━━━━━━━━━━━━━━━━━\u001b[0m \u001b[32m3.3/3.3 MB\u001b[0m \u001b[31m15.4 MB/s\u001b[0m eta \u001b[36m0:00:00\u001b[0m\n",
            "\u001b[?25hCollecting requests-toolbelt>=0.8.0 (from comet_ml)\n",
            "  Downloading requests_toolbelt-1.0.0-py2.py3-none-any.whl (54 kB)\n",
            "\u001b[2K     \u001b[90m━━━━━━━━━━━━━━━━━━━━━━━━━━━━━━━━━━━━━━━━\u001b[0m \u001b[32m54.5/54.5 kB\u001b[0m \u001b[31m5.9 MB/s\u001b[0m eta \u001b[36m0:00:00\u001b[0m\n",
            "\u001b[?25hRequirement already satisfied: requests>=2.18.4 in /usr/local/lib/python3.10/dist-packages (from comet_ml) (2.31.0)\n",
            "Collecting semantic-version>=2.8.0 (from comet_ml)\n",
            "  Downloading semantic_version-2.10.0-py2.py3-none-any.whl (15 kB)\n",
            "Collecting sentry-sdk>=1.1.0 (from comet_ml)\n",
            "  Downloading sentry_sdk-1.31.0-py2.py3-none-any.whl (224 kB)\n",
            "\u001b[2K     \u001b[90m━━━━━━━━━━━━━━━━━━━━━━━━━━━━━━━━━━━━━━\u001b[0m \u001b[32m224.8/224.8 kB\u001b[0m \u001b[31m21.4 MB/s\u001b[0m eta \u001b[36m0:00:00\u001b[0m\n",
            "\u001b[?25hCollecting simplejson (from comet_ml)\n",
            "  Downloading simplejson-3.19.1-cp310-cp310-manylinux_2_5_x86_64.manylinux1_x86_64.manylinux_2_17_x86_64.manylinux2014_x86_64.whl (137 kB)\n",
            "\u001b[2K     \u001b[90m━━━━━━━━━━━━━━━━━━━━━━━━━━━━━━━━━━━━━━\u001b[0m \u001b[32m137.9/137.9 kB\u001b[0m \u001b[31m18.6 MB/s\u001b[0m eta \u001b[36m0:00:00\u001b[0m\n",
            "\u001b[?25hRequirement already satisfied: six in /usr/local/lib/python3.10/dist-packages (from comet_ml) (1.16.0)\n",
            "Requirement already satisfied: urllib3>=1.21.1 in /usr/local/lib/python3.10/dist-packages (from comet_ml) (2.0.4)\n",
            "Collecting websocket-client<1.4.0,>=0.55.0 (from comet_ml)\n",
            "  Downloading websocket_client-1.3.3-py3-none-any.whl (54 kB)\n",
            "\u001b[2K     \u001b[90m━━━━━━━━━━━━━━━━━━━━━━━━━━━━━━━━━━━━━━━━\u001b[0m \u001b[32m54.3/54.3 kB\u001b[0m \u001b[31m6.0 MB/s\u001b[0m eta \u001b[36m0:00:00\u001b[0m\n",
            "\u001b[?25hRequirement already satisfied: wrapt>=1.11.2 in /usr/local/lib/python3.10/dist-packages (from comet_ml) (1.15.0)\n",
            "Collecting wurlitzer>=1.0.2 (from comet_ml)\n",
            "  Downloading wurlitzer-3.0.3-py3-none-any.whl (7.3 kB)\n",
            "Collecting everett[ini]<3.2.0,>=1.0.1 (from comet_ml)\n",
            "  Downloading everett-3.1.0-py2.py3-none-any.whl (35 kB)\n",
            "Collecting dulwich!=0.20.33,>=0.20.6 (from comet_ml)\n",
            "  Downloading dulwich-0.21.6-cp310-cp310-manylinux_2_17_x86_64.manylinux2014_x86_64.whl (512 kB)\n",
            "\u001b[2K     \u001b[90m━━━━━━━━━━━━━━━━━━━━━━━━━━━━━━━━━━━━━━\u001b[0m \u001b[32m512.2/512.2 kB\u001b[0m \u001b[31m20.5 MB/s\u001b[0m eta \u001b[36m0:00:00\u001b[0m\n",
            "\u001b[?25hRequirement already satisfied: rich>=13.3.2 in /usr/local/lib/python3.10/dist-packages (from comet_ml) (13.5.2)\n",
            "Collecting configobj (from everett[ini]<3.2.0,>=1.0.1->comet_ml)\n",
            "  Downloading configobj-5.0.8-py2.py3-none-any.whl (36 kB)\n",
            "Requirement already satisfied: attrs>=22.2.0 in /usr/local/lib/python3.10/dist-packages (from jsonschema!=3.1.0,>=2.6.0->comet_ml) (23.1.0)\n",
            "Requirement already satisfied: jsonschema-specifications>=2023.03.6 in /usr/local/lib/python3.10/dist-packages (from jsonschema!=3.1.0,>=2.6.0->comet_ml) (2023.7.1)\n",
            "Requirement already satisfied: referencing>=0.28.4 in /usr/local/lib/python3.10/dist-packages (from jsonschema!=3.1.0,>=2.6.0->comet_ml) (0.30.2)\n",
            "Requirement already satisfied: rpds-py>=0.7.1 in /usr/local/lib/python3.10/dist-packages (from jsonschema!=3.1.0,>=2.6.0->comet_ml) (0.10.2)\n",
            "Requirement already satisfied: charset-normalizer<4,>=2 in /usr/local/lib/python3.10/dist-packages (from requests>=2.18.4->comet_ml) (3.2.0)\n",
            "Requirement already satisfied: idna<4,>=2.5 in /usr/local/lib/python3.10/dist-packages (from requests>=2.18.4->comet_ml) (3.4)\n",
            "Requirement already satisfied: certifi>=2017.4.17 in /usr/local/lib/python3.10/dist-packages (from requests>=2.18.4->comet_ml) (2023.7.22)\n",
            "Requirement already satisfied: markdown-it-py>=2.2.0 in /usr/local/lib/python3.10/dist-packages (from rich>=13.3.2->comet_ml) (3.0.0)\n",
            "Requirement already satisfied: pygments<3.0.0,>=2.13.0 in /usr/local/lib/python3.10/dist-packages (from rich>=13.3.2->comet_ml) (2.16.1)\n",
            "Requirement already satisfied: mdurl~=0.1 in /usr/local/lib/python3.10/dist-packages (from markdown-it-py>=2.2.0->rich>=13.3.2->comet_ml) (0.1.2)\n",
            "Installing collected packages: everett, wurlitzer, websocket-client, simplejson, sentry-sdk, semantic-version, python-box, dulwich, configobj, requests-toolbelt, comet_ml\n",
            "  Attempting uninstall: websocket-client\n",
            "    Found existing installation: websocket-client 1.6.2\n",
            "    Uninstalling websocket-client-1.6.2:\n",
            "      Successfully uninstalled websocket-client-1.6.2\n",
            "  Attempting uninstall: python-box\n",
            "    Found existing installation: python-box 7.1.1\n",
            "    Uninstalling python-box-7.1.1:\n",
            "      Successfully uninstalled python-box-7.1.1\n",
            "Successfully installed comet_ml-3.33.10 configobj-5.0.8 dulwich-0.21.6 everett-3.1.0 python-box-6.1.0 requests-toolbelt-1.0.0 semantic-version-2.10.0 sentry-sdk-1.31.0 simplejson-3.19.1 websocket-client-1.3.3 wurlitzer-3.0.3\n"
          ]
        }
      ]
    },
    {
      "cell_type": "code",
      "source": [
        "import comet_ml\n",
        "comet_ml.init(project_name=\"Prueba comet\")"
      ],
      "metadata": {
        "id": "4PRqc_1mHOZQ"
      },
      "execution_count": 17,
      "outputs": []
    },
    {
      "cell_type": "code",
      "execution_count": 18,
      "metadata": {
        "id": "GJ_8iPWWN8fn"
      },
      "outputs": [],
      "source": [
        "import tensorflow as tf\n",
        "from tensorflow import keras\n",
        "#from tensorflow.keras.datasets import mnist\n",
        "from tensorflow.keras.models import Sequential\n",
        "from tensorflow.keras.layers import Dense, Dropout, Activation\n",
        "from tensorflow.keras.optimizers import RMSprop, SGD\n",
        "from tensorflow.keras import regularizers\n",
        "from keras.callbacks import ModelCheckpoint\n",
        "import gzip\n",
        "import pickle\n",
        "import numpy as np"
      ]
    },
    {
      "cell_type": "code",
      "source": [
        "experiment = comet_ml.Experiment(\n",
        "    auto_histogram_weight_logging=True,\n",
        "    auto_histogram_gradient_logging=True,\n",
        "    auto_histogram_activation_logging=True,\n",
        "    log_code=True,\n",
        ")"
      ],
      "metadata": {
        "colab": {
          "base_uri": "https://localhost:8080/"
        },
        "id": "puk6zaaEi4gk",
        "outputId": "720d6709-0e99-4b5d-971d-4ae21b5a7764"
      },
      "execution_count": 25,
      "outputs": [
        {
          "output_type": "stream",
          "name": "stderr",
          "text": [
            "\u001b[1;38;5;214mCOMET WARNING:\u001b[0m As you are running in a Jupyter environment, you will need to call `experiment.end()` when finished to ensure all metrics and code are logged before exiting.\n",
            "\u001b[1;38;5;39mCOMET INFO:\u001b[0m Couldn't find a Git repository in '/content' nor in any parent directory. Set `COMET_GIT_DIRECTORY` if your Git Repository is elsewhere.\n",
            "\u001b[1;38;5;39mCOMET INFO:\u001b[0m Experiment is live on comet.com https://www.comet.com/eduardo-macavity/prueba-comet/1a8e17f4861c4215a876e86103164bb0\n",
            "\n"
          ]
        }
      ]
    },
    {
      "cell_type": "code",
      "source": [
        "modelo_cargado = tf.keras.models.load_model('best_model.hdf5')"
      ],
      "metadata": {
        "id": "WWBfCmxKVw6u"
      },
      "execution_count": 19,
      "outputs": []
    },
    {
      "cell_type": "code",
      "source": [
        "#Cargamos los datos\n",
        "f = gzip.open('mnist.pkl.gz', 'rb')\n",
        "dataset = pickle.load(f,encoding=\"latin1\")"
      ],
      "metadata": {
        "id": "1Uoylgt-guZF"
      },
      "execution_count": 20,
      "outputs": []
    },
    {
      "cell_type": "code",
      "source": [
        "\n",
        "\n",
        "dat=np.array(dataset)\n",
        "print(dat[1,1].shape)\n",
        "(x_train, y_train), (x_val, y_val), (x_test, y_test) = dataset\n",
        "\n"
      ],
      "metadata": {
        "id": "kqcrNtEqgxxp",
        "colab": {
          "base_uri": "https://localhost:8080/"
        },
        "outputId": "29665f57-907b-49e4-a411-73ded771cc66"
      },
      "execution_count": 21,
      "outputs": [
        {
          "output_type": "stream",
          "name": "stdout",
          "text": [
            "(10000,)\n"
          ]
        },
        {
          "output_type": "stream",
          "name": "stderr",
          "text": [
            "<ipython-input-21-57f718d27ce6>:1: VisibleDeprecationWarning: Creating an ndarray from ragged nested sequences (which is a list-or-tuple of lists-or-tuples-or ndarrays with different lengths or shapes) is deprecated. If you meant to do this, you must specify 'dtype=object' when creating the ndarray.\n",
            "  dat=np.array(dataset)\n"
          ]
        }
      ]
    },
    {
      "cell_type": "code",
      "source": [
        "\n",
        "\n",
        "x_train = x_train.astype('float32')\n",
        "x_test = x_test.astype('float32')\n",
        "\n"
      ],
      "metadata": {
        "id": "WNhxlXk3g0fa"
      },
      "execution_count": 22,
      "outputs": []
    },
    {
      "cell_type": "code",
      "source": [
        "\n",
        "num_classes=10\n",
        "y_trainc = keras.utils.to_categorical(y_train, num_classes)\n",
        "y_testc = keras.utils.to_categorical(y_test, num_classes)"
      ],
      "metadata": {
        "id": "Lf9qmP92g44b"
      },
      "execution_count": 23,
      "outputs": []
    },
    {
      "cell_type": "code",
      "source": [
        "\n",
        "\n",
        "parameters = {\n",
        "    \"batch_size\": 128,\n",
        "    \"epochs\": 30,\n",
        "    \"optimizer\": \"adam\",\n",
        "    \"loss\": \"binary_crossentropy\",\n",
        "}\n",
        "\n",
        "experiment.log_parameters(parameters)"
      ],
      "metadata": {
        "id": "tjaj1K1pIt47"
      },
      "execution_count": 32,
      "outputs": []
    },
    {
      "cell_type": "code",
      "source": [
        "model = Sequential(modelo_cargado)\n",
        "model.add(Dense(512, activation='sigmoid', input_shape=(784,)))\n",
        "model.add(Dense(600,activation='tanh'))\n",
        "model.add(Dense(200,activation='selu'))\n",
        "model.add(Dense(600,activation='relu'))\n",
        "model.add(Dense(100,activation='elu'))\n",
        "model.add(Dense(600,activation='sigmoid'))\n",
        "model.add(Dense(200, activation='elu', kernel_regularizer=regularizers.L2(l2=1e-4)) ) #Regularizacion L2\n",
        "model.add(Dense(500,activation='exponential'))\n",
        "model.add(Dense(num_classes, activation='sigmoid'))\n",
        "\n",
        "model.summary()"
      ],
      "metadata": {
        "id": "6bd_72sQjpgz",
        "colab": {
          "base_uri": "https://localhost:8080/"
        },
        "outputId": "3733e92a-08e9-44e3-a827-c48bf6cde747"
      },
      "execution_count": 33,
      "outputs": [
        {
          "output_type": "stream",
          "name": "stdout",
          "text": [
            "Model: \"sequential_1\"\n",
            "_________________________________________________________________\n",
            " Layer (type)                Output Shape              Param #   \n",
            "=================================================================\n",
            " sequential_2 (Sequential)   (None, 10)                1376730   \n",
            "                                                                 \n",
            " dense_9 (Dense)             (None, 512)               5632      \n",
            "                                                                 \n",
            " dense_10 (Dense)            (None, 600)               307800    \n",
            "                                                                 \n",
            " dense_11 (Dense)            (None, 200)               120200    \n",
            "                                                                 \n",
            " dense_12 (Dense)            (None, 600)               120600    \n",
            "                                                                 \n",
            " dense_13 (Dense)            (None, 100)               60100     \n",
            "                                                                 \n",
            " dense_14 (Dense)            (None, 600)               60600     \n",
            "                                                                 \n",
            " dense_15 (Dense)            (None, 200)               120200    \n",
            "                                                                 \n",
            " dense_16 (Dense)            (None, 500)               100500    \n",
            "                                                                 \n",
            " dense_17 (Dense)            (None, 10)                5010      \n",
            "                                                                 \n",
            "=================================================================\n",
            "Total params: 2277372 (8.69 MB)\n",
            "Trainable params: 2277372 (8.69 MB)\n",
            "Non-trainable params: 0 (0.00 Byte)\n",
            "_________________________________________________________________\n"
          ]
        }
      ]
    },
    {
      "cell_type": "code",
      "source": [
        "model.compile(loss=parameters['loss'],optimizer=parameters['optimizer'],metrics=['accuracy'])\n"
      ],
      "metadata": {
        "id": "Ei5HKOGajtVL"
      },
      "execution_count": 34,
      "outputs": []
    },
    {
      "cell_type": "code",
      "source": [
        "model.fit(x_train, y_trainc,\n",
        "                    batch_size=parameters['batch_size'],\n",
        "                    epochs=parameters[\"epochs\"],\n",
        "                    verbose=1,\n",
        "                    validation_data=(x_test, y_testc),\n",
        "                    )"
      ],
      "metadata": {
        "id": "2_k28zDtXJMb",
        "colab": {
          "base_uri": "https://localhost:8080/"
        },
        "outputId": "c192c77a-493c-46ad-f57d-e2756a7a888d"
      },
      "execution_count": 35,
      "outputs": [
        {
          "output_type": "stream",
          "name": "stdout",
          "text": [
            "Epoch 1/30\n",
            "391/391 [==============================] - 28s 65ms/step - loss: 0.3572 - accuracy: 0.1033 - val_loss: 0.3466 - val_accuracy: 0.0974\n",
            "Epoch 2/30\n",
            "391/391 [==============================] - 23s 59ms/step - loss: 0.3415 - accuracy: 0.1029 - val_loss: 0.3367 - val_accuracy: 0.1032\n",
            "Epoch 3/30\n",
            "391/391 [==============================] - 23s 60ms/step - loss: 0.3334 - accuracy: 0.1029 - val_loss: 0.3309 - val_accuracy: 0.0974\n",
            "Epoch 4/30\n",
            "391/391 [==============================] - 24s 61ms/step - loss: 0.3292 - accuracy: 0.1059 - val_loss: 0.3280 - val_accuracy: 0.1009\n",
            "Epoch 5/30\n",
            "391/391 [==============================] - 24s 62ms/step - loss: 0.3272 - accuracy: 0.1019 - val_loss: 0.3262 - val_accuracy: 0.1135\n",
            "Epoch 6/30\n",
            "391/391 [==============================] - 23s 59ms/step - loss: 0.3261 - accuracy: 0.1067 - val_loss: 0.3257 - val_accuracy: 0.0974\n",
            "Epoch 7/30\n",
            "391/391 [==============================] - 27s 68ms/step - loss: 0.3257 - accuracy: 0.1071 - val_loss: 0.3255 - val_accuracy: 0.1032\n",
            "Epoch 8/30\n",
            "391/391 [==============================] - 24s 62ms/step - loss: 0.3255 - accuracy: 0.1075 - val_loss: 0.3255 - val_accuracy: 0.0958\n",
            "Epoch 9/30\n",
            "391/391 [==============================] - 24s 62ms/step - loss: 0.3255 - accuracy: 0.1073 - val_loss: 0.3253 - val_accuracy: 0.1009\n",
            "Epoch 10/30\n",
            "391/391 [==============================] - 24s 61ms/step - loss: 0.3253 - accuracy: 0.1064 - val_loss: 0.3252 - val_accuracy: 0.1135\n",
            "Epoch 11/30\n",
            "391/391 [==============================] - 23s 59ms/step - loss: 0.3253 - accuracy: 0.1082 - val_loss: 0.3253 - val_accuracy: 0.1010\n",
            "Epoch 12/30\n",
            "391/391 [==============================] - 24s 62ms/step - loss: 0.3253 - accuracy: 0.1093 - val_loss: 0.3253 - val_accuracy: 0.1135\n",
            "Epoch 13/30\n",
            "391/391 [==============================] - 24s 62ms/step - loss: 0.3252 - accuracy: 0.1078 - val_loss: 0.3253 - val_accuracy: 0.1032\n",
            "Epoch 14/30\n",
            "391/391 [==============================] - 25s 65ms/step - loss: 0.3252 - accuracy: 0.1107 - val_loss: 0.3253 - val_accuracy: 0.1135\n",
            "Epoch 15/30\n",
            "391/391 [==============================] - 23s 58ms/step - loss: 0.3252 - accuracy: 0.1096 - val_loss: 0.3251 - val_accuracy: 0.1135\n",
            "Epoch 16/30\n",
            "391/391 [==============================] - 26s 65ms/step - loss: 0.3252 - accuracy: 0.1112 - val_loss: 0.3252 - val_accuracy: 0.1135\n",
            "Epoch 17/30\n",
            "391/391 [==============================] - 24s 62ms/step - loss: 0.3252 - accuracy: 0.1089 - val_loss: 0.3252 - val_accuracy: 0.1010\n",
            "Epoch 18/30\n",
            "391/391 [==============================] - 24s 62ms/step - loss: 0.3252 - accuracy: 0.1109 - val_loss: 0.3252 - val_accuracy: 0.1135\n",
            "Epoch 19/30\n",
            "391/391 [==============================] - 24s 62ms/step - loss: 0.3251 - accuracy: 0.1108 - val_loss: 0.3252 - val_accuracy: 0.1135\n",
            "Epoch 20/30\n",
            "391/391 [==============================] - 23s 58ms/step - loss: 0.3251 - accuracy: 0.1096 - val_loss: 0.3251 - val_accuracy: 0.1135\n",
            "Epoch 21/30\n",
            "391/391 [==============================] - 26s 66ms/step - loss: 0.3252 - accuracy: 0.1111 - val_loss: 0.3252 - val_accuracy: 0.1135\n",
            "Epoch 22/30\n",
            "391/391 [==============================] - 24s 62ms/step - loss: 0.3251 - accuracy: 0.1099 - val_loss: 0.3250 - val_accuracy: 0.1135\n",
            "Epoch 23/30\n",
            "391/391 [==============================] - 24s 63ms/step - loss: 0.3251 - accuracy: 0.1113 - val_loss: 0.3252 - val_accuracy: 0.1010\n",
            "Epoch 24/30\n",
            "391/391 [==============================] - 23s 58ms/step - loss: 0.3251 - accuracy: 0.1103 - val_loss: 0.3252 - val_accuracy: 0.1135\n",
            "Epoch 25/30\n",
            "391/391 [==============================] - 26s 65ms/step - loss: 0.3251 - accuracy: 0.1113 - val_loss: 0.3252 - val_accuracy: 0.1135\n",
            "Epoch 26/30\n",
            "391/391 [==============================] - 24s 62ms/step - loss: 0.3251 - accuracy: 0.1119 - val_loss: 0.3250 - val_accuracy: 0.1135\n",
            "Epoch 27/30\n",
            "391/391 [==============================] - 26s 65ms/step - loss: 0.3251 - accuracy: 0.1107 - val_loss: 0.3251 - val_accuracy: 0.1135\n",
            "Epoch 28/30\n",
            "391/391 [==============================] - 24s 61ms/step - loss: 0.3251 - accuracy: 0.1113 - val_loss: 0.3251 - val_accuracy: 0.1135\n",
            "Epoch 29/30\n",
            "391/391 [==============================] - 23s 59ms/step - loss: 0.3251 - accuracy: 0.1119 - val_loss: 0.3251 - val_accuracy: 0.1135\n",
            "Epoch 30/30\n",
            "391/391 [==============================] - 24s 62ms/step - loss: 0.3251 - accuracy: 0.1109 - val_loss: 0.3251 - val_accuracy: 0.1135\n"
          ]
        },
        {
          "output_type": "execute_result",
          "data": {
            "text/plain": [
              "<keras.src.callbacks.History at 0x7c1178516440>"
            ]
          },
          "metadata": {},
          "execution_count": 35
        }
      ]
    },
    {
      "cell_type": "code",
      "source": [
        "score = model.evaluate(x_test, y_testc, verbose=1) #evaluar la eficiencia del modelo\n",
        "print(score)\n",
        "a=model.predict(x_test) #predicción de la red entrenada\n",
        "print(a.shape)\n",
        "print(a[1])\n",
        "print(\"resultado correcto:\")\n",
        "print(y_testc[1])\n"
      ],
      "metadata": {
        "id": "EwFrc-kT3c4k",
        "colab": {
          "base_uri": "https://localhost:8080/"
        },
        "outputId": "c538b692-e02a-4c78-e5b9-a92a4858ff1a"
      },
      "execution_count": 36,
      "outputs": [
        {
          "output_type": "stream",
          "name": "stdout",
          "text": [
            "313/313 [==============================] - 3s 11ms/step - loss: 0.3251 - accuracy: 0.1135\n",
            "[0.32514017820358276, 0.11349999904632568]\n",
            "313/313 [==============================] - 3s 8ms/step\n",
            "(10000, 10)\n",
            "[0.10839035 0.11797436 0.10219676 0.10944629 0.09515241 0.09895652\n",
            " 0.1027865  0.10888895 0.10056282 0.10443575]\n",
            "resultado correcto:\n",
            "[0. 0. 1. 0. 0. 0. 0. 0. 0. 0.]\n"
          ]
        }
      ]
    },
    {
      "cell_type": "code",
      "source": [
        "experiment.log_model(\"MNIST1\", \"best_model.hdf5\")"
      ],
      "metadata": {
        "id": "k6EVsTlhJ244",
        "colab": {
          "base_uri": "https://localhost:8080/"
        },
        "outputId": "9f3484b9-9d0b-4020-f2d9-cf53bc73af55"
      },
      "execution_count": 37,
      "outputs": [
        {
          "output_type": "execute_result",
          "data": {
            "text/plain": [
              "{'web': 'https://www.comet.com/api/asset/download?assetId=6c2cc1629337454a9b7d13d60b1d82a8&experimentKey=1a8e17f4861c4215a876e86103164bb0',\n",
              " 'api': 'https://www.comet.com/api/rest/v2/experiment/asset/get-asset?assetId=6c2cc1629337454a9b7d13d60b1d82a8&experimentKey=1a8e17f4861c4215a876e86103164bb0',\n",
              " 'assetId': '6c2cc1629337454a9b7d13d60b1d82a8'}"
            ]
          },
          "metadata": {},
          "execution_count": 37
        }
      ]
    },
    {
      "cell_type": "code",
      "source": [
        "experiment.end()"
      ],
      "metadata": {
        "id": "gMWCNXM_J5Lb",
        "colab": {
          "base_uri": "https://localhost:8080/"
        },
        "outputId": "44ddd81f-ca71-49de-c153-25d4882975dd"
      },
      "execution_count": 38,
      "outputs": [
        {
          "output_type": "stream",
          "name": "stderr",
          "text": [
            "\u001b[1;38;5;39mCOMET INFO:\u001b[0m ---------------------------------------------------------------------------------------\n",
            "\u001b[1;38;5;39mCOMET INFO:\u001b[0m Comet.ml Experiment Summary\n",
            "\u001b[1;38;5;39mCOMET INFO:\u001b[0m ---------------------------------------------------------------------------------------\n",
            "\u001b[1;38;5;39mCOMET INFO:\u001b[0m   Data:\n",
            "\u001b[1;38;5;39mCOMET INFO:\u001b[0m     display_summary_level : 1\n",
            "\u001b[1;38;5;39mCOMET INFO:\u001b[0m     url                   : https://www.comet.com/eduardo-macavity/prueba-comet/1a8e17f4861c4215a876e86103164bb0\n",
            "\u001b[1;38;5;39mCOMET INFO:\u001b[0m   Metrics [count] (min, max):\n",
            "\u001b[1;38;5;39mCOMET INFO:\u001b[0m     accuracy [32]                 : (0.10189999639987946, 0.3930400013923645)\n",
            "\u001b[1;38;5;39mCOMET INFO:\u001b[0m     batch_accuracy [1282]         : (0.0703125, 0.59375)\n",
            "\u001b[1;38;5;39mCOMET INFO:\u001b[0m     batch_loss [1282]             : (0.19660446047782898, 1.168004035949707)\n",
            "\u001b[1;38;5;39mCOMET INFO:\u001b[0m     epoch_duration [32]           : (22.042435695999984, 29.855729190000034)\n",
            "\u001b[1;38;5;39mCOMET INFO:\u001b[0m     loss [32]                     : (0.2672901749610901, 0.3572080731391907)\n",
            "\u001b[1;38;5;39mCOMET INFO:\u001b[0m     val_accuracy [32]             : (0.0957999974489212, 0.5720000267028809)\n",
            "\u001b[1;38;5;39mCOMET INFO:\u001b[0m     val_loss [32]                 : (0.20882250368595123, 0.3465941548347473)\n",
            "\u001b[1;38;5;39mCOMET INFO:\u001b[0m     validate_batch_accuracy [256] : (0.0234375, 0.625)\n",
            "\u001b[1;38;5;39mCOMET INFO:\u001b[0m     validate_batch_loss [256]     : (0.1957492232322693, 0.3484388589859009)\n",
            "\u001b[1;38;5;39mCOMET INFO:\u001b[0m   Others:\n",
            "\u001b[1;38;5;39mCOMET INFO:\u001b[0m     trainable_params : 2277372\n",
            "\u001b[1;38;5;39mCOMET INFO:\u001b[0m   Parameters:\n",
            "\u001b[1;38;5;39mCOMET INFO:\u001b[0m     Adam_amsgrad                 : False\n",
            "\u001b[1;38;5;39mCOMET INFO:\u001b[0m     Adam_beta_1                  : 0.9\n",
            "\u001b[1;38;5;39mCOMET INFO:\u001b[0m     Adam_beta_2                  : 0.999\n",
            "\u001b[1;38;5;39mCOMET INFO:\u001b[0m     Adam_clipnorm                : 1\n",
            "\u001b[1;38;5;39mCOMET INFO:\u001b[0m     Adam_clipvalue               : 1\n",
            "\u001b[1;38;5;39mCOMET INFO:\u001b[0m     Adam_ema_momentum            : 0.99\n",
            "\u001b[1;38;5;39mCOMET INFO:\u001b[0m     Adam_ema_overwrite_frequency : 1\n",
            "\u001b[1;38;5;39mCOMET INFO:\u001b[0m     Adam_epsilon                 : 1e-07\n",
            "\u001b[1;38;5;39mCOMET INFO:\u001b[0m     Adam_global_clipnorm         : 1\n",
            "\u001b[1;38;5;39mCOMET INFO:\u001b[0m     Adam_is_legacy_optimizer     : False\n",
            "\u001b[1;38;5;39mCOMET INFO:\u001b[0m     Adam_jit_compile             : False\n",
            "\u001b[1;38;5;39mCOMET INFO:\u001b[0m     Adam_learning_rate           : 0.0010000000474974513\n",
            "\u001b[1;38;5;39mCOMET INFO:\u001b[0m     Adam_name                    : Adam\n",
            "\u001b[1;38;5;39mCOMET INFO:\u001b[0m     Adam_use_ema                 : False\n",
            "\u001b[1;38;5;39mCOMET INFO:\u001b[0m     Adam_weight_decay            : 1\n",
            "\u001b[1;38;5;39mCOMET INFO:\u001b[0m     batch_size                   : 128\n",
            "\u001b[1;38;5;39mCOMET INFO:\u001b[0m     epochs                       : 30\n",
            "\u001b[1;38;5;39mCOMET INFO:\u001b[0m     loss                         : binary_crossentropy\n",
            "\u001b[1;38;5;39mCOMET INFO:\u001b[0m     optimizer                    : adam\n",
            "\u001b[1;38;5;39mCOMET INFO:\u001b[0m     steps                        : 391\n",
            "\u001b[1;38;5;39mCOMET INFO:\u001b[0m   Uploads:\n",
            "\u001b[1;38;5;39mCOMET INFO:\u001b[0m     environment details : 1\n",
            "\u001b[1;38;5;39mCOMET INFO:\u001b[0m     filename            : 1\n",
            "\u001b[1;38;5;39mCOMET INFO:\u001b[0m     histogram3d         : 1320\n",
            "\u001b[1;38;5;39mCOMET INFO:\u001b[0m     installed packages  : 1\n",
            "\u001b[1;38;5;39mCOMET INFO:\u001b[0m     model graph         : 1\n",
            "\u001b[1;38;5;39mCOMET INFO:\u001b[0m     model-element       : 1 (15.82 MB)\n",
            "\u001b[1;38;5;39mCOMET INFO:\u001b[0m     notebook            : 2\n",
            "\u001b[1;38;5;39mCOMET INFO:\u001b[0m     os packages         : 1\n",
            "\u001b[1;38;5;39mCOMET INFO:\u001b[0m     source_code         : 1\n",
            "\u001b[1;38;5;39mCOMET INFO:\u001b[0m \n",
            "\u001b[1;38;5;39mCOMET INFO:\u001b[0m Please wait for metadata to finish uploading (timeout is 3600 seconds)\n"
          ]
        }
      ]
    },
    {
      "cell_type": "code",
      "source": [
        "#Para guardar el modelo en disco\n",
        "#model.save(\"red.h5\")"
      ],
      "metadata": {
        "id": "AWXql1k04F7K"
      },
      "execution_count": 39,
      "outputs": []
    },
    {
      "cell_type": "code",
      "source": [
        "#para cargar la red:\n",
        "#modelo_cargado = tf.keras.models.load_model('red.h5')"
      ],
      "metadata": {
        "id": "CDsy85rb4Cs_"
      },
      "execution_count": 40,
      "outputs": []
    }
  ]
}